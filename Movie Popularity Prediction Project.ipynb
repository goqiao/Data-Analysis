{
 "cells": [
  {
   "cell_type": "markdown",
   "metadata": {},
   "source": [
    "# Overview of Movie Popularity Prediction\n",
    "\n",
    "In this project, I aim to predict whether a movie is going to perform well on Amazon Prime Video with python, specifically I want to predict the cumulated view time per day of each film based on labeled data. \n",
    "\n",
    "* Lots of Missing values\n",
    "  Among the 10 numerical features (not include video_id and release_year), 4 features have over 25% of missing data\n",
    "* Weighted categorical position, weighted horizontal position and imbd_votes are highly predictive features of popular movies."
   ]
  },
  {
   "cell_type": "markdown",
   "metadata": {
    "colab_type": "text",
    "id": "OteRUJc685g0"
   },
   "source": [
    "# Pre Load packages \n"
   ]
  },
  {
   "cell_type": "code",
   "execution_count": 1,
   "metadata": {
    "colab": {},
    "colab_type": "code",
    "id": "uD2Ih_u385g3"
   },
   "outputs": [],
   "source": [
    "# load packages\n",
    "%matplotlib inline\n",
    "import numpy as np\n",
    "import scipy\n",
    "import pandas as pd\n",
    "import matplotlib.pyplot as plt\n",
    "import statsmodels.formula.api as sm\n",
    "import seaborn as sns\n",
    "import sklearn as sl\n",
    "from sklearn import preprocessing\n",
    "pd.set_option('display.float_format', lambda x: '%.3f' % x)\n",
    "import warnings\n",
    "warnings.filterwarnings('ignore')"
   ]
  },
  {
   "cell_type": "markdown",
   "metadata": {
    "colab_type": "text",
    "id": "Ko3Z6PZk85g7"
   },
   "source": [
    "# Pre Load data \n",
    "\n",
    "'Video_id' is defined as the index of each sample. 'cvt_per_day' is the metric, the rest of 14 columns are all characteristic features (numeric & categorical) of each video."
   ]
  },
  {
   "cell_type": "code",
   "execution_count": 2,
   "metadata": {
    "colab": {},
    "colab_type": "code",
    "id": "AicVVtkv85g8",
    "outputId": "0ac999a2-d35a-4bc8-88c2-fc216e519301"
   },
   "outputs": [
    {
     "data": {
      "text/html": [
       "<div>\n",
       "<style scoped>\n",
       "    .dataframe tbody tr th:only-of-type {\n",
       "        vertical-align: middle;\n",
       "    }\n",
       "\n",
       "    .dataframe tbody tr th {\n",
       "        vertical-align: top;\n",
       "    }\n",
       "\n",
       "    .dataframe thead th {\n",
       "        text-align: right;\n",
       "    }\n",
       "</style>\n",
       "<table border=\"1\" class=\"dataframe\">\n",
       "  <thead>\n",
       "    <tr style=\"text-align: right;\">\n",
       "      <th></th>\n",
       "      <th>video_id</th>\n",
       "      <th>cvt_per_day</th>\n",
       "      <th>weighted_categorical_position</th>\n",
       "      <th>weighted_horizontal_position</th>\n",
       "      <th>import_id</th>\n",
       "      <th>release_year</th>\n",
       "      <th>genres</th>\n",
       "      <th>imdb_votes</th>\n",
       "      <th>budget</th>\n",
       "      <th>boxoffice</th>\n",
       "      <th>imdb_rating</th>\n",
       "      <th>duration_in_mins</th>\n",
       "      <th>metacritic_score</th>\n",
       "      <th>awards</th>\n",
       "      <th>mpaa</th>\n",
       "      <th>star_category</th>\n",
       "    </tr>\n",
       "  </thead>\n",
       "  <tbody>\n",
       "    <tr>\n",
       "      <th>0</th>\n",
       "      <td>385504</td>\n",
       "      <td>307127.606</td>\n",
       "      <td>1</td>\n",
       "      <td>3</td>\n",
       "      <td>lionsgate</td>\n",
       "      <td>2013</td>\n",
       "      <td>Action,Thriller,Drama</td>\n",
       "      <td>69614</td>\n",
       "      <td>15000000</td>\n",
       "      <td>42930462</td>\n",
       "      <td>6.500</td>\n",
       "      <td>112.301</td>\n",
       "      <td>51</td>\n",
       "      <td>other award</td>\n",
       "      <td>PG-13</td>\n",
       "      <td>1.710</td>\n",
       "    </tr>\n",
       "    <tr>\n",
       "      <th>1</th>\n",
       "      <td>300175</td>\n",
       "      <td>270338.426</td>\n",
       "      <td>1</td>\n",
       "      <td>3</td>\n",
       "      <td>lionsgate</td>\n",
       "      <td>2013</td>\n",
       "      <td>Comedy,Crime,Thriller</td>\n",
       "      <td>46705</td>\n",
       "      <td>15000000</td>\n",
       "      <td>3301046</td>\n",
       "      <td>6.500</td>\n",
       "      <td>94.983</td>\n",
       "      <td>41</td>\n",
       "      <td>no award</td>\n",
       "      <td>R</td>\n",
       "      <td>3.250</td>\n",
       "    </tr>\n",
       "    <tr>\n",
       "      <th>2</th>\n",
       "      <td>361899</td>\n",
       "      <td>256165.867</td>\n",
       "      <td>1</td>\n",
       "      <td>3</td>\n",
       "      <td>other</td>\n",
       "      <td>2012</td>\n",
       "      <td>Crime,Drama</td>\n",
       "      <td>197596</td>\n",
       "      <td>26000000</td>\n",
       "      <td>37397291</td>\n",
       "      <td>7.300</td>\n",
       "      <td>115.764</td>\n",
       "      <td>58</td>\n",
       "      <td>other award</td>\n",
       "      <td>R</td>\n",
       "      <td>2.647</td>\n",
       "    </tr>\n",
       "    <tr>\n",
       "      <th>3</th>\n",
       "      <td>308314</td>\n",
       "      <td>196622.721</td>\n",
       "      <td>3</td>\n",
       "      <td>4</td>\n",
       "      <td>lionsgate</td>\n",
       "      <td>2008</td>\n",
       "      <td>Thriller,Drama,War,Documentary,Mystery,Action</td>\n",
       "      <td>356339</td>\n",
       "      <td>15000000</td>\n",
       "      <td>15700000</td>\n",
       "      <td>7.600</td>\n",
       "      <td>130.704</td>\n",
       "      <td>94</td>\n",
       "      <td>Oscar</td>\n",
       "      <td>R</td>\n",
       "      <td>1.667</td>\n",
       "    </tr>\n",
       "    <tr>\n",
       "      <th>4</th>\n",
       "      <td>307201</td>\n",
       "      <td>159841.652</td>\n",
       "      <td>1</td>\n",
       "      <td>3</td>\n",
       "      <td>lionsgate</td>\n",
       "      <td>2013</td>\n",
       "      <td>Crime,Thriller,Mystery,Documentary</td>\n",
       "      <td>46720</td>\n",
       "      <td>27220000</td>\n",
       "      <td>8551228</td>\n",
       "      <td>6.400</td>\n",
       "      <td>105.546</td>\n",
       "      <td>37</td>\n",
       "      <td>other award</td>\n",
       "      <td>R</td>\n",
       "      <td>3.067</td>\n",
       "    </tr>\n",
       "  </tbody>\n",
       "</table>\n",
       "</div>"
      ],
      "text/plain": [
       "   video_id  cvt_per_day  weighted_categorical_position  \\\n",
       "0    385504   307127.606                              1   \n",
       "1    300175   270338.426                              1   \n",
       "2    361899   256165.867                              1   \n",
       "3    308314   196622.721                              3   \n",
       "4    307201   159841.652                              1   \n",
       "\n",
       "   weighted_horizontal_position  import_id  release_year  \\\n",
       "0                             3  lionsgate          2013   \n",
       "1                             3  lionsgate          2013   \n",
       "2                             3      other          2012   \n",
       "3                             4  lionsgate          2008   \n",
       "4                             3  lionsgate          2013   \n",
       "\n",
       "                                          genres  imdb_votes    budget  \\\n",
       "0                          Action,Thriller,Drama       69614  15000000   \n",
       "1                          Comedy,Crime,Thriller       46705  15000000   \n",
       "2                                    Crime,Drama      197596  26000000   \n",
       "3  Thriller,Drama,War,Documentary,Mystery,Action      356339  15000000   \n",
       "4             Crime,Thriller,Mystery,Documentary       46720  27220000   \n",
       "\n",
       "   boxoffice  imdb_rating  duration_in_mins  metacritic_score       awards  \\\n",
       "0   42930462        6.500           112.301                51  other award   \n",
       "1    3301046        6.500            94.983                41     no award   \n",
       "2   37397291        7.300           115.764                58  other award   \n",
       "3   15700000        7.600           130.704                94        Oscar   \n",
       "4    8551228        6.400           105.546                37  other award   \n",
       "\n",
       "    mpaa  star_category  \n",
       "0  PG-13          1.710  \n",
       "1      R          3.250  \n",
       "2      R          2.647  \n",
       "3      R          1.667  \n",
       "4      R          3.067  "
      ]
     },
     "execution_count": 2,
     "metadata": {},
     "output_type": "execute_result"
    }
   ],
   "source": [
    "TV = pd.read_table('data/TVdata.txt', sep = ',', header=0, lineterminator = '\\n')\n",
    "TV.head()"
   ]
  },
  {
   "cell_type": "code",
   "execution_count": 3,
   "metadata": {
    "colab": {},
    "colab_type": "code",
    "id": "f1z7PhFQ85hB",
    "outputId": "0034a8f7-f5d3-481a-f6f8-e848c190a1c6"
   },
   "outputs": [
    {
     "name": "stdout",
     "output_type": "stream",
     "text": [
      "Number of rows: 4226\n",
      "Number of columns: 16\n"
     ]
    }
   ],
   "source": [
    "print ('Number of rows: ' + str(TV.shape[0]))\n",
    "print ('Number of columns: ' + str(TV.shape[1]))"
   ]
  },
  {
   "cell_type": "markdown",
   "metadata": {
    "colab_type": "text",
    "id": "FMIZ30cU85hF"
   },
   "source": [
    "\n",
    "# 1 : Data Exploration\n",
    "\n",
    "## 1.1 Exclude erroneous data \n",
    "Each video should only appear once in the list, duplicated video will be removed."
   ]
  },
  {
   "cell_type": "code",
   "execution_count": 4,
   "metadata": {
    "colab": {},
    "colab_type": "code",
    "id": "ilouboQA85hG",
    "outputId": "69ce8baf-a9a9-4826-9e9a-20867f657ca5"
   },
   "outputs": [
    {
     "name": "stdout",
     "output_type": "stream",
     "text": [
      "There is no duplicated entry (video_id based).\n"
     ]
    }
   ],
   "source": [
    "# check duplicated entry\n",
    "if sum(TV['video_id'].duplicated()) == 0:\n",
    "    print ('There is no duplicated entry (video_id based).')"
   ]
  },
  {
   "cell_type": "markdown",
   "metadata": {
    "colab_type": "text",
    "id": "ONpNB2b085hJ"
   },
   "source": [
    "## 1.2 Understand the numerical features\n",
    "### 1.2.1 Overview \n",
    "Note: video_id, release_year are not numerical features although they are represented by numbers."
   ]
  },
  {
   "cell_type": "code",
   "execution_count": 5,
   "metadata": {
    "colab": {},
    "colab_type": "code",
    "id": "JJckNOeU85hK",
    "outputId": "1afcda9e-262e-41e5-b2c1-a009beeafaa8"
   },
   "outputs": [
    {
     "name": "stdout",
     "output_type": "stream",
     "text": [
      "       cvt_per_day  weighted_categorical_position  \\\n",
      "count     4226.000                       4226.000   \n",
      "mean      4218.630                          7.783   \n",
      "std      13036.080                          6.134   \n",
      "min          2.188                          1.000   \n",
      "10%        141.985                          3.000   \n",
      "25%        351.169                          4.000   \n",
      "50%       1193.500                          6.000   \n",
      "75%       3356.789                          9.000   \n",
      "95%      14692.834                         22.000   \n",
      "max     307127.606                         41.000   \n",
      "\n",
      "       weighted_horizontal_position  imdb_votes        budget     boxoffice  \\\n",
      "count                      4226.000    4226.000      4226.000      4226.000   \n",
      "mean                         28.104    6462.924   2150743.439   2536338.472   \n",
      "std                          11.864   31596.007   7176604.483   8243516.266   \n",
      "min                           1.000       0.000         0.000         0.000   \n",
      "10%                          13.000       8.000         0.000         0.000   \n",
      "25%                          20.000      81.000         0.000         0.000   \n",
      "50%                          28.000     535.000         0.000         0.000   \n",
      "75%                          36.000    3053.000   1500000.000         0.000   \n",
      "95%                          48.000   26199.500  12000000.000   8551228.000   \n",
      "max                          70.000  948630.000 107000000.000 184208848.000   \n",
      "\n",
      "       imdb_rating  duration_in_mins  metacritic_score  star_category  \n",
      "count     4226.000          4226.000          4226.000       4226.000  \n",
      "mean         5.257            89.556            15.974          0.955  \n",
      "std          2.123            21.086            26.205          0.955  \n",
      "min          0.000             4.037             0.000          0.000  \n",
      "10%          2.300            62.391             0.000          0.000  \n",
      "25%          4.300            82.602             0.000          0.000  \n",
      "50%          5.800            90.730             0.000          1.000  \n",
      "75%          6.800            99.500            41.000          1.667  \n",
      "95%          7.800           119.131            65.000          2.597  \n",
      "max         10.000           246.017           100.000          4.000  \n",
      "video_id                            0\n",
      "cvt_per_day                         0\n",
      "weighted_categorical_position       0\n",
      "weighted_horizontal_position        0\n",
      "import_id                           0\n",
      "release_year                        0\n",
      "genres                              0\n",
      "imdb_votes                        344\n",
      "budget                           2454\n",
      "boxoffice                        3194\n",
      "imdb_rating                       344\n",
      "duration_in_mins                    0\n",
      "metacritic_score                 3012\n",
      "awards                              0\n",
      "mpaa                                0\n",
      "star_category                    1846\n",
      "dtype: int64\n",
      "video_id                           int64\n",
      "cvt_per_day                      float64\n",
      "weighted_categorical_position      int64\n",
      "weighted_horizontal_position       int64\n",
      "import_id                         object\n",
      "release_year                       int64\n",
      "genres                            object\n",
      "imdb_votes                         int64\n",
      "budget                             int64\n",
      "boxoffice                          int64\n",
      "imdb_rating                      float64\n",
      "duration_in_mins                 float64\n",
      "metacritic_score                   int64\n",
      "awards                            object\n",
      "mpaa                              object\n",
      "star_category                    float64\n",
      "dtype: object\n"
     ]
    }
   ],
   "source": [
    "print (TV.drop(['video_id', 'release_year'],axis=1).describe(percentiles = [.1, .25, .5, .75, .95]))\n",
    "print ((TV == 0).sum())\n",
    "print (TV.dtypes)"
   ]
  },
  {
   "cell_type": "markdown",
   "metadata": {
    "colab_type": "text",
    "id": "oBuaEFZB85hN"
   },
   "source": [
    "Among the 10 numerical features (not include video_id and release_year), 4 features have over 25% of missing data: budget, boxoffice, metacritic_score, star_category. 2 features have less than 10% of missing data: imdb_votes, imdb_rating."
   ]
  },
  {
   "cell_type": "markdown",
   "metadata": {
    "colab_type": "text",
    "id": "JsTeT1z285hN"
   },
   "source": [
    "###  1.2.2 cvt_per_day feature "
   ]
  },
  {
   "cell_type": "code",
   "execution_count": 6,
   "metadata": {
    "colab": {},
    "colab_type": "code",
    "id": "2ji8W8EN85hO",
    "outputId": "c3a46eac-0acb-4fa3-bcff-6f6dd7119904"
   },
   "outputs": [
    {
     "data": {
      "image/png": "[encoded data removed]",
      "text/plain": [
       "<Figure size 432x288 with 1 Axes>"
      ]
     },
     "metadata": {
      "needs_background": "light"
     },
     "output_type": "display_data"
    },
    {
     "data": {
      "image/png": "[encoded data removed]",
      "text/plain": [
       "<Figure size 432x288 with 1 Axes>"
      ]
     },
     "metadata": {
      "needs_background": "light"
     },
     "output_type": "display_data"
    }
   ],
   "source": [
    "# cvt_per_day data explore\n",
    "plt.hist(TV['cvt_per_day'].values, bins = range(0,15000, 30), alpha = 0.5, color='r', label = 'cvt_per_day')\n",
    "plt.legend(loc ='upper right')\n",
    "plt.title('Histograms of cvt_per_day before data processing')\n",
    "plt.xlabel('cvt_per_day')\n",
    "plt.ylabel('density')\n",
    "plt.show()\n",
    "\n",
    "# log scale of y due to large variation\n",
    "plt.hist(TV['cvt_per_day'].values, log = True, bins = range(0,15000, 30), alpha = 0.5, color='g', label = 'cvt_per_day_log_scale')\n",
    "plt.legend(loc ='upper right')\n",
    "plt.title('Histograms of cvt_per_day before data processing')\n",
    "plt.xlabel('cvt_per_day_log_scale')\n",
    "plt.ylabel('density')\n",
    "plt.show()"
   ]
  },
  {
   "cell_type": "markdown",
   "metadata": {
    "colab_type": "text",
    "id": "sAFhdv6K85hS"
   },
   "source": [
    "### 1.2.3 Correlation among numerical features"
   ]
  },
  {
   "cell_type": "code",
   "execution_count": 7,
   "metadata": {
    "colab": {},
    "colab_type": "code",
    "id": "ABDoQct885hS",
    "outputId": "5c51b8e8-7e84-46fc-ee48-92022df45361"
   },
   "outputs": [
    {
     "data": {
      "text/plain": [
       "<AxesSubplot:>"
      ]
     },
     "execution_count": 7,
     "metadata": {},
     "output_type": "execute_result"
    },
    {
     "data": {
      "image/png": "[encoded data removed]",
      "text/plain": [
       "<Figure size 432x288 with 2 Axes>"
      ]
     },
     "metadata": {
      "needs_background": "light"
     },
     "output_type": "display_data"
    }
   ],
   "source": [
    "# correlation of the numerical features \n",
    "corr = TV[['cvt_per_day','weighted_categorical_position','weighted_horizontal_position'\n",
    "               ,'release_year', 'imdb_votes', 'budget', 'boxoffice' ,'imdb_rating', \n",
    "               'duration_in_mins', 'metacritic_score', 'star_category']].corr()\n",
    "\n",
    "sns.heatmap(corr, cmap=\"YlGnBu\")"
   ]
  },
  {
   "cell_type": "markdown",
   "metadata": {
    "colab_type": "text",
    "id": "TkLucGOj85hZ"
   },
   "source": [
    "## 1.3 Understand the categorical features¶ \n",
    "### 1.3.1 simple categorical features (import_id, mpaa, awards)"
   ]
  },
  {
   "cell_type": "code",
   "execution_count": 8,
   "metadata": {
    "colab": {},
    "colab_type": "code",
    "id": "aCe4USb685ha",
    "outputId": "eb8407f6-e6b2-4b7e-9ceb-868f946dbd6f"
   },
   "outputs": [
    {
     "data": {
      "image/png": "[encoded data removed]",
      "text/plain": [
       "<Figure size 432x288 with 1 Axes>"
      ]
     },
     "metadata": {
      "needs_background": "light"
     },
     "output_type": "display_data"
    },
    {
     "name": "stdout",
     "output_type": "stream",
     "text": [
      "       index  import_id\n",
      "0      other       2963\n",
      "1  lionsgate        677\n",
      "2        mgm        445\n",
      "3  paramount        141\n"
     ]
    },
    {
     "data": {
      "image/png": "[encoded data removed]",
      "text/plain": [
       "<Figure size 432x288 with 1 Axes>"
      ]
     },
     "metadata": {
      "needs_background": "light"
     },
     "output_type": "display_data"
    },
    {
     "name": "stdout",
     "output_type": "stream",
     "text": [
      "      index  mpaa\n",
      "0  NotRated  2158\n",
      "1         R  1158\n",
      "2     PG-13   426\n",
      "3        PG   353\n",
      "4         G   125\n",
      "5     NC-17     6\n"
     ]
    },
    {
     "data": {
      "image/png": "[encoded data removed]",
      "text/plain": [
       "<Figure size 432x288 with 1 Axes>"
      ]
     },
     "metadata": {
      "needs_background": "light"
     },
     "output_type": "display_data"
    },
    {
     "name": "stdout",
     "output_type": "stream",
     "text": [
      "          index  awards\n",
      "0      no award    2569\n",
      "1   other award    1453\n",
      "2         Oscar     141\n",
      "3  Golden Globe      44\n",
      "4         BAFTA      19\n"
     ]
    }
   ],
   "source": [
    "sns.stripplot(x='import_id', y='cvt_per_day', data=TV, jitter=True)\n",
    "plt.show()\n",
    "print (TV['import_id'].value_counts().reset_index())\n",
    "\n",
    "sns.stripplot(x='mpaa', y='cvt_per_day', data=TV, jitter=True)\n",
    "plt.show()\n",
    "print (TV['mpaa'].value_counts().reset_index())\n",
    "\n",
    "sns.stripplot(x='awards', y='cvt_per_day', data=TV, jitter=True)\n",
    "plt.show()\n",
    "print (TV['awards'].value_counts().reset_index())"
   ]
  },
  {
   "cell_type": "markdown",
   "metadata": {
    "colab_type": "text",
    "id": "6lOMQulb85hd"
   },
   "source": [
    "### 1.3.2 Distribution of splited genres\n",
    "Some videos belongs to more than 1 genre, the genre of each video is splited, this would help emphasize the effect of each individual genre."
   ]
  },
  {
   "cell_type": "code",
   "execution_count": 9,
   "metadata": {},
   "outputs": [
    {
     "data": {
      "text/plain": [
       "0                            Action,Thriller,Drama\n",
       "1                            Comedy,Crime,Thriller\n",
       "2                                      Crime,Drama\n",
       "3    Thriller,Drama,War,Documentary,Mystery,Action\n",
       "4               Crime,Thriller,Mystery,Documentary\n",
       "Name: genres, dtype: object"
      ]
     },
     "execution_count": 9,
     "metadata": {},
     "output_type": "execute_result"
    }
   ],
   "source": [
    "TV['genres'].head()"
   ]
  },
  {
   "cell_type": "code",
   "execution_count": 10,
   "metadata": {
    "colab": {},
    "colab_type": "code",
    "id": "CeZpA8VJ85he",
    "outputId": "c7068d5c-eed5-4d62-fb05-af15eee369e5"
   },
   "outputs": [
    {
     "data": {
      "text/plain": [
       "<AxesSubplot:>"
      ]
     },
     "execution_count": 10,
     "metadata": {},
     "output_type": "execute_result"
    },
    {
     "data": {
      "image/png": "[encoded data removed]",
      "text/plain": [
       "<Figure size 432x288 with 1 Axes>"
      ]
     },
     "metadata": {
      "needs_background": "light"
     },
     "output_type": "display_data"
    }
   ],
   "source": [
    "# genres explore, split the genre of each video\n",
    "gen_split = TV['genres'].str.get_dummies(sep=',').sum()\n",
    "gen_split.sort_values(ascending=False).plot.bar()"
   ]
  },
  {
   "cell_type": "markdown",
   "metadata": {
    "colab_type": "text",
    "id": "6z1j2mqQ85hh"
   },
   "source": [
    "6 genres including Anime, Reality, Lifestyle, Adult, LGBT, Holiday have low frequencies. Therefore, during feature processing, they will be grouped together as: 'Misc_gen' in the feature 'genres'."
   ]
  },
  {
   "cell_type": "markdown",
   "metadata": {
    "colab_type": "text",
    "id": "DugZNSVf85hh"
   },
   "source": [
    "### 1.3.3 Distribution of release_year\n",
    "The release year of video varies through a wide range. Considering the popularity of a video usually decays over time, the release_year should be bucketed based on the release_year range. "
   ]
  },
  {
   "cell_type": "code",
   "execution_count": 11,
   "metadata": {
    "colab": {},
    "colab_type": "code",
    "id": "PNN2EFXK85hi",
    "outputId": "1ddffec2-3034-438b-a7c4-b06ead4accf7"
   },
   "outputs": [
    {
     "data": {
      "image/png": "[encoded data removed]",
      "text/plain": [
       "<Figure size 432x288 with 1 Axes>"
      ]
     },
     "metadata": {
      "needs_background": "light"
     },
     "output_type": "display_data"
    },
    {
     "name": "stdout",
     "output_type": "stream",
     "text": [
      "count   4226.000\n",
      "mean    2001.057\n",
      "std       17.497\n",
      "min     1916.000\n",
      "10%     1974.000\n",
      "20%     1991.000\n",
      "30%     2001.000\n",
      "40%     2006.000\n",
      "50%     2008.000\n",
      "60%     2010.000\n",
      "70%     2012.000\n",
      "80%     2013.000\n",
      "90%     2014.000\n",
      "max     2017.000\n",
      "Name: release_year, dtype: float64\n"
     ]
    }
   ],
   "source": [
    "plt.figure(1)\n",
    "plt.hist(TV['release_year'].values, bins = range(1910, 2017, 1), alpha = 0.5, color='r', label = 'release_year')\n",
    "plt.legend(loc ='upper left')\n",
    "plt.title('Histogram of release_year before data processing')\n",
    "plt.xlabel('release_year')\n",
    "plt.ylabel('density')\n",
    "plt.show()\n",
    "\n",
    "print (TV['release_year'].describe(percentiles = [.1, .2, .3, .4,.5, .6, .7, .8, .9]))"
   ]
  },
  {
   "cell_type": "markdown",
   "metadata": {
    "colab_type": "text",
    "id": "pvGIGjHg85hn"
   },
   "source": [
    "# Part 2: Feature Preprocessing"
   ]
  },
  {
   "cell_type": "markdown",
   "metadata": {
    "colab_type": "text",
    "id": "eBzmvXA785ho"
   },
   "source": [
    "## 2.1 Categorical features\n",
    "There are 5 categorical features: import_id, mpaa, awards, genres, and release_year. There is no missing data in them. They can be converted into dummy/indicators.\n",
    "\n",
    "The first 3 have relatively small sub-types, they can be easily converted to dummies.\n",
    "\n",
    "The 'genres' have 27 different sub-types, 6 of them are rarely observed (refer to previous section). It's reasonable to group these 6 into 1. Note: a video may have more than one genre, in the feature preprocessing, all genres are handled individually.\n",
    "\n",
    "The release_year is bined into 10 buckets based on the year range between 1917 and 2017."
   ]
  },
  {
   "cell_type": "code",
   "execution_count": 12,
   "metadata": {
    "colab": {},
    "colab_type": "code",
    "id": "FWaGLrZi85hp"
   },
   "outputs": [],
   "source": [
    "# Convert 3 Categorical variables into dummy variables\n",
    "d_import_id = pd.get_dummies(TV['import_id']).astype(np.int64)\n",
    "d_mpaa = pd.get_dummies(TV['mpaa']).astype(np.int64)\n",
    "d_awards = pd.get_dummies(TV['awards']).astype(np.int64)"
   ]
  },
  {
   "cell_type": "code",
   "execution_count": 13,
   "metadata": {
    "colab": {},
    "colab_type": "code",
    "id": "41TIBYil85ht"
   },
   "outputs": [],
   "source": [
    "# Convert 'genres' into dummy variables\n",
    "d_genres = TV['genres'].str.get_dummies(sep=',')\n",
    "\n",
    "# combine 6 smallest genres into a new genre 'Misc_gen'. Use bitwise operation '|', then drop these 6 columns.\n",
    "d_genres['Misc_gen'] = d_genres['Anime']|d_genres['Reality']|d_genres['Lifestyle']|d_genres['Adult']|d_genres['LGBT']|d_genres['Holiday']\n",
    "d_genres.drop(['Anime', 'Reality','Lifestyle', 'Adult','LGBT','Holiday'], inplace=True, axis=1)"
   ]
  },
  {
   "cell_type": "code",
   "execution_count": 14,
   "metadata": {
    "colab": {},
    "colab_type": "code",
    "id": "Oj6_mSXM85hv"
   },
   "outputs": [],
   "source": [
    "# bin release_year and convert into dummies\n",
    "bin_year = [1916, 1974, 1991, 2001, 2006, 2008, 2010, 2012, 2013, 2014,2017]\n",
    "year_range = ['1916-1974', '1974-1991', '1991-2001', '2001-2006','2006-2008','2008-2010','2010-2012','2012-2013',\n",
    "              '2013-2014','2014-2017']\n",
    "year_bin = pd.cut(TV['release_year'], bin_year, labels=year_range)\n",
    "d_year = pd.get_dummies(year_bin).astype(np.int64)"
   ]
  },
  {
   "cell_type": "code",
   "execution_count": 15,
   "metadata": {
    "colab": {},
    "colab_type": "code",
    "id": "C_nUzDiq85hx",
    "outputId": "d1d8cb29-ec4d-4dc1-aeda-adeb36e658a5",
    "scrolled": true
   },
   "outputs": [
    {
     "name": "stdout",
     "output_type": "stream",
     "text": [
      "(4226, 58)\n",
      "0\n"
     ]
    }
   ],
   "source": [
    "# new dataframe, drop the previous categorical features, add new dummy variables, check for null\n",
    "TV_temp = TV.drop(['import_id', 'mpaa','awards','genres', 'release_year'], axis=1)\n",
    "newTV = pd.concat([TV_temp, d_import_id, d_mpaa, d_awards, d_genres, d_year], axis=1)\n",
    "print (newTV.shape)\n",
    "print (pd.isnull(newTV).any(1).sum())\n",
    "newTV_0 = newTV.copy() # a copy of newTV"
   ]
  },
  {
   "cell_type": "markdown",
   "metadata": {
    "colab_type": "text",
    "id": "_6-5bLUG85h3"
   },
   "source": [
    "Feature space holds 4226 observations and 58 features in total.\n",
    "\n",
    "There is NO null data. newTV_0 is kepted as the raw dataframe before any further feature processing, e.g. replace 0 with null, missing data fill etc. "
   ]
  },
  {
   "cell_type": "markdown",
   "metadata": {
    "colab_type": "text",
    "id": "NYmh3ooX85h4"
   },
   "source": [
    "## 2.2 Handling of missing data \n",
    "Among the 10 numerical features (not include video_id), 4 features have over 25% of missing values (shown as '0', which is not possible in reality): budget, boxoffice, metacritic_score, star_category. 2 features have less than 10% of missing data: imdb_votes, imdb_rating.\n",
    "\n",
    "There are 3242 samples have at least one missing data."
   ]
  },
  {
   "cell_type": "code",
   "execution_count": 16,
   "metadata": {
    "colab": {},
    "colab_type": "code",
    "id": "bSSS3Lsf85h4",
    "outputId": "59d9e50a-ff0a-447f-be47-7a98046b1632",
    "scrolled": true
   },
   "outputs": [
    {
     "name": "stdout",
     "output_type": "stream",
     "text": [
      "videos having at least one null:  3242\n",
      "video_id                            0\n",
      "cvt_per_day                         0\n",
      "weighted_categorical_position       0\n",
      "weighted_horizontal_position        0\n",
      "imdb_votes                        344\n",
      "budget                           2454\n",
      "boxoffice                        3194\n",
      "imdb_rating                       344\n",
      "duration_in_mins                    0\n",
      "metacritic_score                 3012\n",
      "star_category                    1846\n",
      "lionsgate                           0\n",
      "mgm                                 0\n",
      "other                               0\n",
      "paramount                           0\n",
      "G                                   0\n",
      "NC-17                               0\n",
      "NotRated                            0\n",
      "PG                                  0\n",
      "PG-13                               0\n",
      "R                                   0\n",
      "BAFTA                               0\n",
      "Golden Globe                        0\n",
      "Oscar                               0\n",
      "no award                            0\n",
      "other award                         0\n",
      "Action                              0\n",
      "Adventure                           0\n",
      "Animation                           0\n",
      "Comedy                              0\n",
      "Crime                               0\n",
      "Documentary                         0\n",
      "Drama                               0\n",
      "Fantasy                             0\n",
      "Foreign/International               0\n",
      "Horror                              0\n",
      "Independent                         0\n",
      "Kids & Family                       0\n",
      "Music                               0\n",
      "Musicals                            0\n",
      "Mystery                             0\n",
      "Romance                             0\n",
      "Sci-Fi                              0\n",
      "Sport                               0\n",
      "Thriller                            0\n",
      "War                                 0\n",
      "Western                             0\n",
      "Misc_gen                            0\n",
      "1916-1974                           0\n",
      "1974-1991                           0\n",
      "1991-2001                           0\n",
      "2001-2006                           0\n",
      "2006-2008                           0\n",
      "2008-2010                           0\n",
      "2010-2012                           0\n",
      "2012-2013                           0\n",
      "2013-2014                           0\n",
      "2014-2017                           0\n",
      "dtype: int64\n"
     ]
    }
   ],
   "source": [
    "# mark zero values as NaN\n",
    "newTV[['budget','boxoffice','metacritic_score', 'star_category','imdb_votes', 'imdb_rating']] = newTV[['budget','boxoffice','metacritic_score', 'star_category','imdb_votes', 'imdb_rating']].replace(0, np.nan)\n",
    "\n",
    "#count the number videos who have at least one missing data \n",
    "print ('videos having at least one null: ', newTV.isnull().any(axis=1).sum())\n",
    "\n",
    "# count the number of NaN values in each column\n",
    "print (newTV.isnull().sum())"
   ]
  },
  {
   "cell_type": "markdown",
   "metadata": {
    "colab_type": "text",
    "id": "t4KFHLKJ85h7"
   },
   "source": [
    "### 2.2.1 Filling missing data with mean value\n",
    "For imdb_voates and imdb_rating, they always show 'null' together, which is reasonable, since when a imdb_votes is missing, the imdb_rating is mostly also missing. For all 6 features with missiong data, the 1st attempt is to fill in with their mean value."
   ]
  },
  {
   "cell_type": "code",
   "execution_count": 17,
   "metadata": {
    "colab": {},
    "colab_type": "code",
    "id": "U_QpAc1t85h8"
   },
   "outputs": [],
   "source": [
    "# fill missing values with the column mean\n",
    "newTV_i1 = newTV.copy()\n",
    "newTV_i1['budget'].fillna(newTV_i1['budget'].mean(), inplace=True)\n",
    "newTV_i1['boxoffice'].fillna(newTV_i1['boxoffice'].mean(), inplace=True)\n",
    "newTV_i1['metacritic_score'].fillna(newTV_i1['metacritic_score'].mean(), inplace=True)\n",
    "newTV_i1['star_category'].fillna(newTV_i1['star_category'].mean(), inplace=True)\n",
    "newTV_i1['imdb_votes'].fillna(newTV_i1['imdb_votes'].mean(), inplace=True)\n",
    "newTV_i1['imdb_rating'].fillna(newTV_i1['imdb_rating'].mean(), inplace=True)"
   ]
  },
  {
   "cell_type": "markdown",
   "metadata": {
    "colab_type": "text",
    "id": "KTau77aZ85h-"
   },
   "source": [
    "newTV_i1 have the feature processing as: fill the missing data in budget, boxoffice, metacritic_score, star_category, imdb_votes, imdb_rating with mean. It will be tested in the upcoming models. "
   ]
  },
  {
   "cell_type": "markdown",
   "metadata": {},
   "source": [
    "### 2.2.1 Filling missing data by linear regression"
   ]
  },
  {
   "cell_type": "markdown",
   "metadata": {},
   "source": [
    "#### 2.2.1 Filling in imbd_votes by linear regression"
   ]
  },
  {
   "cell_type": "code",
   "execution_count": 18,
   "metadata": {},
   "outputs": [],
   "source": [
    "newTV_i2 = newTV.copy()\n",
    "newTV_i2['budget'].fillna(newTV_i1['budget'].mean(), inplace=True)\n",
    "newTV_i2['boxoffice'].fillna(newTV_i1['boxoffice'].mean(), inplace=True)\n",
    "newTV_i2['metacritic_score'].fillna(newTV_i1['metacritic_score'].mean(), inplace=True)\n",
    "newTV_i2['star_category'].fillna(newTV_i1['star_category'].mean(), inplace=True)\n",
    "#newTV_i1['imdb_votes'].fillna(newTV_i1['imdb_votes'].mean(), inplace=True)\n",
    "newTV_i2['imdb_rating'].fillna(newTV_i1['imdb_rating'].mean(), inplace=True)\n",
    "#newTV_i2.isnull().sum()\n",
    "\n",
    "from sklearn import linear_model\n",
    "from sklearn.model_selection import train_test_split\n",
    "from sklearn.metrics import mean_squared_error, r2_score\n",
    "\n",
    "# index of non-null index for imdb_votes\n",
    "votes_index = np.where(newTV_i2['imdb_votes'].notnull())[0]\n",
    "# index of null index for imdb_votes\n",
    "votes_null_index = np.where(newTV_i2['imdb_votes'].isnull())[0]\n",
    "\n",
    "votes_all = pd.DataFrame(newTV_i2, index = list(votes_index), columns = list(newTV_i2))\n",
    "votes_null = pd.DataFrame(newTV_i2, index = list(votes_null_index), columns = list(newTV_i2))\n",
    "\n",
    "votes_train, votes_test = train_test_split(votes_all, test_size=0.2, random_state = 0)\n",
    "votes_train_x = votes_train.drop('imdb_votes', axis = 1)\n",
    "votes_test_x = votes_test.drop('imdb_votes', axis = 1)\n",
    "votes_train_y = votes_train['imdb_votes']\n",
    "votes_test_y = votes_test['imdb_votes']\n",
    "\n"
   ]
  },
  {
   "cell_type": "code",
   "execution_count": 19,
   "metadata": {},
   "outputs": [
    {
     "name": "stdout",
     "output_type": "stream",
     "text": [
      "The optimized alpha and score of Lasso linear is:  359.38136638046257 0.5196374112027902\n"
     ]
    },
    {
     "data": {
      "image/png": "[encoded data removed]",
      "text/plain": [
       "<Figure size 432x288 with 1 Axes>"
      ]
     },
     "metadata": {
      "needs_background": "light"
     },
     "output_type": "display_data"
    }
   ],
   "source": [
    "\n",
    "alphas = np.logspace(1, 3, 10)\n",
    "#print (alphas)\n",
    "scores = np.empty_like(alphas)\n",
    "#print (scores)\n",
    "opt_a = float('-inf')\n",
    "max_score = float('-inf')\n",
    "for i, a in enumerate(alphas):\n",
    "    lasso = linear_model.Lasso()\n",
    "    lasso.set_params(alpha =a)\n",
    "    lasso.fit(votes_train_x, votes_train_y)\n",
    "    scores[i] = lasso.score(votes_test_x, votes_test_y)\n",
    "    if scores[i] > max_score:\n",
    "        max_score = scores[i]\n",
    "        opt_a = a\n",
    "        lasso_save = lasso\n",
    "print  ('The optimized alpha and score of Lasso linear is: ', opt_a, max_score)\n",
    "plt.plot(alphas, scores, color='b', linestyle='dashed', marker='o',markerfacecolor='blue', markersize=6)\n",
    "plt.xlabel('alpha')\n",
    "plt.ylabel('score')\n",
    "plt.grid(True)\n",
    "plt.title('score vs. alpha')\n",
    "plt.show()"
   ]
  },
  {
   "cell_type": "code",
   "execution_count": 20,
   "metadata": {},
   "outputs": [],
   "source": [
    "# predict the missing values with best alpha and fill in the missing values\n",
    "lasso_fillNan = linear_model.Lasso()\n",
    "lasso_fillNan.set_params (alpha = opt_a)\n",
    "lasso_fillNan.fit(votes_train_x, votes_train_y)\n",
    "pred_null = lasso_fillNan.predict(votes_null.drop('imdb_votes', axis = 1)).astype('int64')\n",
    "#print newTV_i2.isnull().sum()\n",
    "newTV_i2.loc [votes_null_index, 'imdb_votes'] = pred_null\n",
    "#print newTV_i2.isnull().sum()"
   ]
  },
  {
   "cell_type": "markdown",
   "metadata": {},
   "source": [
    "#### 2.2.1 Filling in imbd_ratings by linear regression"
   ]
  },
  {
   "cell_type": "markdown",
   "metadata": {
    "colab_type": "text",
    "id": "8CL2115p85h_"
   },
   "source": [
    "## 2.3 Feature scaling\n",
    "The impact of different scaling methods on the model performance is small. In the following model training and selections, the standard scaling (sc) data is used. "
   ]
  },
  {
   "cell_type": "code",
   "execution_count": 21,
   "metadata": {
    "colab": {},
    "colab_type": "code",
    "id": "2bFxgLeK85iA",
    "outputId": "824b0267-8410-4395-9dc5-05aeaf64adb1"
   },
   "outputs": [
    {
     "data": {
      "text/html": [
       "<div>\n",
       "<style scoped>\n",
       "    .dataframe tbody tr th:only-of-type {\n",
       "        vertical-align: middle;\n",
       "    }\n",
       "\n",
       "    .dataframe tbody tr th {\n",
       "        vertical-align: top;\n",
       "    }\n",
       "\n",
       "    .dataframe thead th {\n",
       "        text-align: right;\n",
       "    }\n",
       "</style>\n",
       "<table border=\"1\" class=\"dataframe\">\n",
       "  <thead>\n",
       "    <tr style=\"text-align: right;\">\n",
       "      <th></th>\n",
       "      <th>video_id</th>\n",
       "      <th>cvt_per_day</th>\n",
       "      <th>weighted_categorical_position</th>\n",
       "      <th>weighted_horizontal_position</th>\n",
       "      <th>imdb_votes</th>\n",
       "      <th>budget</th>\n",
       "      <th>boxoffice</th>\n",
       "      <th>imdb_rating</th>\n",
       "      <th>duration_in_mins</th>\n",
       "      <th>metacritic_score</th>\n",
       "      <th>...</th>\n",
       "      <th>1916-1974</th>\n",
       "      <th>1974-1991</th>\n",
       "      <th>1991-2001</th>\n",
       "      <th>2001-2006</th>\n",
       "      <th>2006-2008</th>\n",
       "      <th>2008-2010</th>\n",
       "      <th>2010-2012</th>\n",
       "      <th>2012-2013</th>\n",
       "      <th>2013-2014</th>\n",
       "      <th>2014-2017</th>\n",
       "    </tr>\n",
       "  </thead>\n",
       "  <tbody>\n",
       "    <tr>\n",
       "      <th>0</th>\n",
       "      <td>385504</td>\n",
       "      <td>307127.606</td>\n",
       "      <td>-1.106</td>\n",
       "      <td>-2.116</td>\n",
       "      <td>1.994</td>\n",
       "      <td>1.470</td>\n",
       "      <td>4.696</td>\n",
       "      <td>0.542</td>\n",
       "      <td>1.079</td>\n",
       "      <td>-0.630</td>\n",
       "      <td>...</td>\n",
       "      <td>0</td>\n",
       "      <td>0</td>\n",
       "      <td>0</td>\n",
       "      <td>0</td>\n",
       "      <td>0</td>\n",
       "      <td>0</td>\n",
       "      <td>0</td>\n",
       "      <td>1</td>\n",
       "      <td>0</td>\n",
       "      <td>0</td>\n",
       "    </tr>\n",
       "    <tr>\n",
       "      <th>1</th>\n",
       "      <td>300175</td>\n",
       "      <td>270338.426</td>\n",
       "      <td>-1.106</td>\n",
       "      <td>-2.116</td>\n",
       "      <td>1.271</td>\n",
       "      <td>1.470</td>\n",
       "      <td>-1.022</td>\n",
       "      <td>0.542</td>\n",
       "      <td>0.257</td>\n",
       "      <td>-1.997</td>\n",
       "      <td>...</td>\n",
       "      <td>0</td>\n",
       "      <td>0</td>\n",
       "      <td>0</td>\n",
       "      <td>0</td>\n",
       "      <td>0</td>\n",
       "      <td>0</td>\n",
       "      <td>0</td>\n",
       "      <td>1</td>\n",
       "      <td>0</td>\n",
       "      <td>0</td>\n",
       "    </tr>\n",
       "    <tr>\n",
       "      <th>2</th>\n",
       "      <td>361899</td>\n",
       "      <td>256165.867</td>\n",
       "      <td>-1.106</td>\n",
       "      <td>-2.116</td>\n",
       "      <td>6.034</td>\n",
       "      <td>3.108</td>\n",
       "      <td>3.898</td>\n",
       "      <td>1.100</td>\n",
       "      <td>1.243</td>\n",
       "      <td>0.327</td>\n",
       "      <td>...</td>\n",
       "      <td>0</td>\n",
       "      <td>0</td>\n",
       "      <td>0</td>\n",
       "      <td>0</td>\n",
       "      <td>0</td>\n",
       "      <td>0</td>\n",
       "      <td>1</td>\n",
       "      <td>0</td>\n",
       "      <td>0</td>\n",
       "      <td>0</td>\n",
       "    </tr>\n",
       "    <tr>\n",
       "      <th>3</th>\n",
       "      <td>308314</td>\n",
       "      <td>196622.721</td>\n",
       "      <td>-0.780</td>\n",
       "      <td>-2.032</td>\n",
       "      <td>11.045</td>\n",
       "      <td>1.470</td>\n",
       "      <td>0.767</td>\n",
       "      <td>1.309</td>\n",
       "      <td>1.952</td>\n",
       "      <td>5.250</td>\n",
       "      <td>...</td>\n",
       "      <td>0</td>\n",
       "      <td>0</td>\n",
       "      <td>0</td>\n",
       "      <td>0</td>\n",
       "      <td>1</td>\n",
       "      <td>0</td>\n",
       "      <td>0</td>\n",
       "      <td>0</td>\n",
       "      <td>0</td>\n",
       "      <td>0</td>\n",
       "    </tr>\n",
       "    <tr>\n",
       "      <th>4</th>\n",
       "      <td>307201</td>\n",
       "      <td>159841.652</td>\n",
       "      <td>-1.106</td>\n",
       "      <td>-2.116</td>\n",
       "      <td>1.271</td>\n",
       "      <td>3.290</td>\n",
       "      <td>-0.265</td>\n",
       "      <td>0.472</td>\n",
       "      <td>0.758</td>\n",
       "      <td>-2.544</td>\n",
       "      <td>...</td>\n",
       "      <td>0</td>\n",
       "      <td>0</td>\n",
       "      <td>0</td>\n",
       "      <td>0</td>\n",
       "      <td>0</td>\n",
       "      <td>0</td>\n",
       "      <td>0</td>\n",
       "      <td>1</td>\n",
       "      <td>0</td>\n",
       "      <td>0</td>\n",
       "    </tr>\n",
       "  </tbody>\n",
       "</table>\n",
       "<p>5 rows × 58 columns</p>\n",
       "</div>"
      ],
      "text/plain": [
       "   video_id  cvt_per_day  weighted_categorical_position  \\\n",
       "0    385504   307127.606                         -1.106   \n",
       "1    300175   270338.426                         -1.106   \n",
       "2    361899   256165.867                         -1.106   \n",
       "3    308314   196622.721                         -0.780   \n",
       "4    307201   159841.652                         -1.106   \n",
       "\n",
       "   weighted_horizontal_position  imdb_votes  budget  boxoffice  imdb_rating  \\\n",
       "0                        -2.116       1.994   1.470      4.696        0.542   \n",
       "1                        -2.116       1.271   1.470     -1.022        0.542   \n",
       "2                        -2.116       6.034   3.108      3.898        1.100   \n",
       "3                        -2.032      11.045   1.470      0.767        1.309   \n",
       "4                        -2.116       1.271   3.290     -0.265        0.472   \n",
       "\n",
       "   duration_in_mins  metacritic_score  ...  1916-1974  1974-1991  1991-2001  \\\n",
       "0             1.079            -0.630  ...          0          0          0   \n",
       "1             0.257            -1.997  ...          0          0          0   \n",
       "2             1.243             0.327  ...          0          0          0   \n",
       "3             1.952             5.250  ...          0          0          0   \n",
       "4             0.758            -2.544  ...          0          0          0   \n",
       "\n",
       "   2001-2006  2006-2008  2008-2010  2010-2012  2012-2013  2013-2014  2014-2017  \n",
       "0          0          0          0          0          1          0          0  \n",
       "1          0          0          0          0          1          0          0  \n",
       "2          0          0          0          1          0          0          0  \n",
       "3          0          1          0          0          0          0          0  \n",
       "4          0          0          0          0          1          0          0  \n",
       "\n",
       "[5 rows x 58 columns]"
      ]
     },
     "execution_count": 21,
     "metadata": {},
     "output_type": "execute_result"
    }
   ],
   "source": [
    "#Standard scaling\n",
    "scale_lst = ['weighted_categorical_position', 'weighted_horizontal_position', 'budget','boxoffice', \n",
    "             'imdb_votes','imdb_rating','duration_in_mins', 'metacritic_score','star_category']\n",
    "newTV_sc = newTV_i2.copy()\n",
    "\n",
    "sc_scale = preprocessing.StandardScaler().fit(newTV_sc[scale_lst])\n",
    "newTV_sc[scale_lst] = sc_scale.transform(newTV_sc[scale_lst])\n",
    "\n",
    "newTV_sc.head()"
   ]
  },
  {
   "cell_type": "code",
   "execution_count": 22,
   "metadata": {
    "colab": {},
    "colab_type": "code",
    "id": "6G_1GmWL85iC"
   },
   "outputs": [],
   "source": [
    "# MinMax scaling\n",
    "newTV_mm = newTV_i2.copy()\n",
    "mm_scale = preprocessing.MinMaxScaler().fit(newTV_mm[scale_lst])\n",
    "newTV_mm[scale_lst] = mm_scale.transform(newTV_mm[scale_lst])"
   ]
  },
  {
   "cell_type": "code",
   "execution_count": 23,
   "metadata": {
    "colab": {},
    "colab_type": "code",
    "id": "4AqU4JLW85iF"
   },
   "outputs": [],
   "source": [
    "# Robust scaling\n",
    "newTV_rs = newTV_i2.copy()\n",
    "rs_scale = preprocessing.RobustScaler().fit(newTV_mm[scale_lst])\n",
    "newTV_rs[scale_lst] = rs_scale.transform(newTV_rs[scale_lst])"
   ]
  },
  {
   "cell_type": "markdown",
   "metadata": {
    "colab_type": "text",
    "id": "gPdUDet-85iI"
   },
   "source": [
    "# Part 3: Model Training \n",
    "\n",
    "85% of the samples will be used to train all the models, and 15% is reserved for test the models in next section."
   ]
  },
  {
   "cell_type": "code",
   "execution_count": 24,
   "metadata": {
    "colab": {},
    "colab_type": "code",
    "id": "JZEeK2Ic85iI"
   },
   "outputs": [],
   "source": [
    "# The 15% test data will kept aside, they won't be seen by the models until final test/comparison.\n",
    "from sklearn.model_selection import train_test_split\n",
    "\n",
    "model_train, model_test = train_test_split(newTV_sc, test_size=0.15, random_state = 3)\n",
    "model_train_x = model_train.drop(['video_id', 'cvt_per_day'], axis = 1)\n",
    "model_test_x = model_test.drop(['video_id', 'cvt_per_day'], axis = 1)\n",
    "model_train_y = model_train['cvt_per_day']\n",
    "model_test_y = model_test['cvt_per_day']"
   ]
  },
  {
   "cell_type": "markdown",
   "metadata": {
    "colab_type": "text",
    "id": "ljlgJhkF85iL"
   },
   "source": [
    "## 3.1 Linear models"
   ]
  },
  {
   "cell_type": "markdown",
   "metadata": {
    "colab_type": "text",
    "id": "a3SQGQZp85iM"
   },
   "source": [
    "###  3.1.1 Lasso linear regression\n",
    "#### 1) All featuers are linear"
   ]
  },
  {
   "cell_type": "code",
   "execution_count": 25,
   "metadata": {
    "colab": {},
    "colab_type": "code",
    "id": "ba09M5C685iN",
    "outputId": "79af9580-d1fd-4a9c-a221-cadceaac754d"
   },
   "outputs": [
    {
     "data": {
      "image/png": "[encoded data removed]",
      "text/plain": [
       "<Figure size 432x288 with 1 Axes>"
      ]
     },
     "metadata": {
      "needs_background": "light"
     },
     "output_type": "display_data"
    },
    {
     "name": "stdout",
     "output_type": "stream",
     "text": [
      "The optimized alpha and score of Lasso linear is:  122.06107238906554 0.3697208156120857\n"
     ]
    }
   ],
   "source": [
    "from sklearn.model_selection import train_test_split\n",
    "from sklearn.linear_model import LinearRegression, Lasso, Ridge\n",
    "from sklearn.metrics import mean_squared_error, r2_score\n",
    "from math import sqrt\n",
    "\n",
    "lr_train, lr_validate = train_test_split(model_train, test_size=0.15, random_state = 0)\n",
    "\n",
    "lr_train_x = lr_train.drop(['video_id', 'cvt_per_day'], axis = 1)\n",
    "lr_validate_x = lr_validate.drop(['video_id', 'cvt_per_day'], axis = 1)\n",
    "lr_train_y = lr_train['cvt_per_day']\n",
    "lr_validate_y = lr_validate['cvt_per_day']\n",
    "\n",
    "alphas = np.logspace (-0.3, 2.5, num=150)\n",
    "scores = np.empty_like(alphas)\n",
    "opt_a = float('-inf')\n",
    "max_score = float('-inf')\n",
    "for i, a in enumerate(alphas):\n",
    "    lasso = Lasso()\n",
    "    lasso.set_params(alpha = a)\n",
    "    lasso.fit(lr_train_x, lr_train_y)\n",
    "    scores[i] = lasso.score(lr_validate_x, lr_validate_y)\n",
    "    if scores[i] > max_score:\n",
    "        max_score = scores[i]\n",
    "        opt_a = a\n",
    "        lasso_save = lasso\n",
    "plt.plot(alphas, scores, color='b', linestyle='dashed', marker='o',markerfacecolor='blue', markersize=6)\n",
    "plt.xlabel('alpha')\n",
    "plt.ylabel('score')\n",
    "plt.grid(True)\n",
    "plt.title('score vs. alpha')\n",
    "plt.show()\n",
    "print ('The optimized alpha and score of Lasso linear is: ', opt_a, max_score)"
   ]
  },
  {
   "cell_type": "code",
   "execution_count": 26,
   "metadata": {
    "colab": {},
    "colab_type": "code",
    "id": "DUL3RRL_85iQ",
    "outputId": "fa5411d7-3e11-42ad-cd4c-79ec7e298608"
   },
   "outputs": [
    {
     "data": {
      "text/html": [
       "<style>#sk-container-id-1 {color: black;background-color: white;}#sk-container-id-1 pre{padding: 0;}#sk-container-id-1 div.sk-toggleable {background-color: white;}#sk-container-id-1 label.sk-toggleable__label {cursor: pointer;display: block;width: 100%;margin-bottom: 0;padding: 0.3em;box-sizing: border-box;text-align: center;}#sk-container-id-1 label.sk-toggleable__label-arrow:before {content: \"▸\";float: left;margin-right: 0.25em;color: #696969;}#sk-container-id-1 label.sk-toggleable__label-arrow:hover:before {color: black;}#sk-container-id-1 div.sk-estimator:hover label.sk-toggleable__label-arrow:before {color: black;}#sk-container-id-1 div.sk-toggleable__content {max-height: 0;max-width: 0;overflow: hidden;text-align: left;background-color: #f0f8ff;}#sk-container-id-1 div.sk-toggleable__content pre {margin: 0.2em;color: black;border-radius: 0.25em;background-color: #f0f8ff;}#sk-container-id-1 input.sk-toggleable__control:checked~div.sk-toggleable__content {max-height: 200px;max-width: 100%;overflow: auto;}#sk-container-id-1 input.sk-toggleable__control:checked~label.sk-toggleable__label-arrow:before {content: \"▾\";}#sk-container-id-1 div.sk-estimator input.sk-toggleable__control:checked~label.sk-toggleable__label {background-color: #d4ebff;}#sk-container-id-1 div.sk-label input.sk-toggleable__control:checked~label.sk-toggleable__label {background-color: #d4ebff;}#sk-container-id-1 input.sk-hidden--visually {border: 0;clip: rect(1px 1px 1px 1px);clip: rect(1px, 1px, 1px, 1px);height: 1px;margin: -1px;overflow: hidden;padding: 0;position: absolute;width: 1px;}#sk-container-id-1 div.sk-estimator {font-family: monospace;background-color: #f0f8ff;border: 1px dotted black;border-radius: 0.25em;box-sizing: border-box;margin-bottom: 0.5em;}#sk-container-id-1 div.sk-estimator:hover {background-color: #d4ebff;}#sk-container-id-1 div.sk-parallel-item::after {content: \"\";width: 100%;border-bottom: 1px solid gray;flex-grow: 1;}#sk-container-id-1 div.sk-label:hover label.sk-toggleable__label {background-color: #d4ebff;}#sk-container-id-1 div.sk-serial::before {content: \"\";position: absolute;border-left: 1px solid gray;box-sizing: border-box;top: 0;bottom: 0;left: 50%;z-index: 0;}#sk-container-id-1 div.sk-serial {display: flex;flex-direction: column;align-items: center;background-color: white;padding-right: 0.2em;padding-left: 0.2em;position: relative;}#sk-container-id-1 div.sk-item {position: relative;z-index: 1;}#sk-container-id-1 div.sk-parallel {display: flex;align-items: stretch;justify-content: center;background-color: white;position: relative;}#sk-container-id-1 div.sk-item::before, #sk-container-id-1 div.sk-parallel-item::before {content: \"\";position: absolute;border-left: 1px solid gray;box-sizing: border-box;top: 0;bottom: 0;left: 50%;z-index: -1;}#sk-container-id-1 div.sk-parallel-item {display: flex;flex-direction: column;z-index: 1;position: relative;background-color: white;}#sk-container-id-1 div.sk-parallel-item:first-child::after {align-self: flex-end;width: 50%;}#sk-container-id-1 div.sk-parallel-item:last-child::after {align-self: flex-start;width: 50%;}#sk-container-id-1 div.sk-parallel-item:only-child::after {width: 0;}#sk-container-id-1 div.sk-dashed-wrapped {border: 1px dashed gray;margin: 0 0.4em 0.5em 0.4em;box-sizing: border-box;padding-bottom: 0.4em;background-color: white;}#sk-container-id-1 div.sk-label label {font-family: monospace;font-weight: bold;display: inline-block;line-height: 1.2em;}#sk-container-id-1 div.sk-label-container {text-align: center;}#sk-container-id-1 div.sk-container {/* jupyter's `normalize.less` sets `[hidden] { display: none; }` but bootstrap.min.css set `[hidden] { display: none !important; }` so we also need the `!important` here to be able to override the default hidden behavior on the sphinx rendered scikit-learn.org. See: https://github.com/scikit-learn/scikit-learn/issues/21755 */display: inline-block !important;position: relative;}#sk-container-id-1 div.sk-text-repr-fallback {display: none;}</style><div id=\"sk-container-id-1\" class=\"sk-top-container\"><div class=\"sk-text-repr-fallback\"><pre>Lasso(alpha=122.06107238906554)</pre><b>In a Jupyter environment, please rerun this cell to show the HTML representation or trust the notebook. <br />On GitHub, the HTML representation is unable to render, please try loading this page with nbviewer.org.</b></div><div class=\"sk-container\" hidden><div class=\"sk-item\"><div class=\"sk-estimator sk-toggleable\"><input class=\"sk-toggleable__control sk-hidden--visually\" id=\"sk-estimator-id-1\" type=\"checkbox\" checked><label for=\"sk-estimator-id-1\" class=\"sk-toggleable__label sk-toggleable__label-arrow\">Lasso</label><div class=\"sk-toggleable__content\"><pre>Lasso(alpha=122.06107238906554)</pre></div></div></div></div></div>"
      ],
      "text/plain": [
       "Lasso(alpha=122.06107238906554)"
      ]
     },
     "execution_count": 26,
     "metadata": {},
     "output_type": "execute_result"
    }
   ],
   "source": [
    "# combine the validate data and training data, use the optimal alpha, re-train the model\n",
    "lasso_f = Lasso()\n",
    "lasso_f.set_params(alpha = opt_a)\n",
    "lasso_f.fit(model_train_x, model_train_y)\n",
    "\n",
    "# lasso_f is the Lasso model (linear feature), to be tested with final test data."
   ]
  },
  {
   "cell_type": "markdown",
   "metadata": {
    "colab_type": "text",
    "id": "Q0YwuWVe85iS"
   },
   "source": [
    "#### 2) Ploynomial features"
   ]
  },
  {
   "cell_type": "code",
   "execution_count": 27,
   "metadata": {
    "colab": {},
    "colab_type": "code",
    "id": "2jQXKyh785iT",
    "outputId": "ca2b5517-beae-4c86-c23b-08d47c5fcee3"
   },
   "outputs": [
    {
     "data": {
      "image/png": "[encoded data removed]",
      "text/plain": [
       "<Figure size 432x288 with 1 Axes>"
      ]
     },
     "metadata": {
      "needs_background": "light"
     },
     "output_type": "display_data"
    },
    {
     "name": "stdout",
     "output_type": "stream",
     "text": [
      "The optimized alpha and score of Lasso polynomial is:  94.26684551178855 0.5829987114296402\n"
     ]
    },
    {
     "data": {
      "text/html": [
       "<style>#sk-container-id-2 {color: black;background-color: white;}#sk-container-id-2 pre{padding: 0;}#sk-container-id-2 div.sk-toggleable {background-color: white;}#sk-container-id-2 label.sk-toggleable__label {cursor: pointer;display: block;width: 100%;margin-bottom: 0;padding: 0.3em;box-sizing: border-box;text-align: center;}#sk-container-id-2 label.sk-toggleable__label-arrow:before {content: \"▸\";float: left;margin-right: 0.25em;color: #696969;}#sk-container-id-2 label.sk-toggleable__label-arrow:hover:before {color: black;}#sk-container-id-2 div.sk-estimator:hover label.sk-toggleable__label-arrow:before {color: black;}#sk-container-id-2 div.sk-toggleable__content {max-height: 0;max-width: 0;overflow: hidden;text-align: left;background-color: #f0f8ff;}#sk-container-id-2 div.sk-toggleable__content pre {margin: 0.2em;color: black;border-radius: 0.25em;background-color: #f0f8ff;}#sk-container-id-2 input.sk-toggleable__control:checked~div.sk-toggleable__content {max-height: 200px;max-width: 100%;overflow: auto;}#sk-container-id-2 input.sk-toggleable__control:checked~label.sk-toggleable__label-arrow:before {content: \"▾\";}#sk-container-id-2 div.sk-estimator input.sk-toggleable__control:checked~label.sk-toggleable__label {background-color: #d4ebff;}#sk-container-id-2 div.sk-label input.sk-toggleable__control:checked~label.sk-toggleable__label {background-color: #d4ebff;}#sk-container-id-2 input.sk-hidden--visually {border: 0;clip: rect(1px 1px 1px 1px);clip: rect(1px, 1px, 1px, 1px);height: 1px;margin: -1px;overflow: hidden;padding: 0;position: absolute;width: 1px;}#sk-container-id-2 div.sk-estimator {font-family: monospace;background-color: #f0f8ff;border: 1px dotted black;border-radius: 0.25em;box-sizing: border-box;margin-bottom: 0.5em;}#sk-container-id-2 div.sk-estimator:hover {background-color: #d4ebff;}#sk-container-id-2 div.sk-parallel-item::after {content: \"\";width: 100%;border-bottom: 1px solid gray;flex-grow: 1;}#sk-container-id-2 div.sk-label:hover label.sk-toggleable__label {background-color: #d4ebff;}#sk-container-id-2 div.sk-serial::before {content: \"\";position: absolute;border-left: 1px solid gray;box-sizing: border-box;top: 0;bottom: 0;left: 50%;z-index: 0;}#sk-container-id-2 div.sk-serial {display: flex;flex-direction: column;align-items: center;background-color: white;padding-right: 0.2em;padding-left: 0.2em;position: relative;}#sk-container-id-2 div.sk-item {position: relative;z-index: 1;}#sk-container-id-2 div.sk-parallel {display: flex;align-items: stretch;justify-content: center;background-color: white;position: relative;}#sk-container-id-2 div.sk-item::before, #sk-container-id-2 div.sk-parallel-item::before {content: \"\";position: absolute;border-left: 1px solid gray;box-sizing: border-box;top: 0;bottom: 0;left: 50%;z-index: -1;}#sk-container-id-2 div.sk-parallel-item {display: flex;flex-direction: column;z-index: 1;position: relative;background-color: white;}#sk-container-id-2 div.sk-parallel-item:first-child::after {align-self: flex-end;width: 50%;}#sk-container-id-2 div.sk-parallel-item:last-child::after {align-self: flex-start;width: 50%;}#sk-container-id-2 div.sk-parallel-item:only-child::after {width: 0;}#sk-container-id-2 div.sk-dashed-wrapped {border: 1px dashed gray;margin: 0 0.4em 0.5em 0.4em;box-sizing: border-box;padding-bottom: 0.4em;background-color: white;}#sk-container-id-2 div.sk-label label {font-family: monospace;font-weight: bold;display: inline-block;line-height: 1.2em;}#sk-container-id-2 div.sk-label-container {text-align: center;}#sk-container-id-2 div.sk-container {/* jupyter's `normalize.less` sets `[hidden] { display: none; }` but bootstrap.min.css set `[hidden] { display: none !important; }` so we also need the `!important` here to be able to override the default hidden behavior on the sphinx rendered scikit-learn.org. See: https://github.com/scikit-learn/scikit-learn/issues/21755 */display: inline-block !important;position: relative;}#sk-container-id-2 div.sk-text-repr-fallback {display: none;}</style><div id=\"sk-container-id-2\" class=\"sk-top-container\"><div class=\"sk-text-repr-fallback\"><pre>Lasso(alpha=94.26684551178855)</pre><b>In a Jupyter environment, please rerun this cell to show the HTML representation or trust the notebook. <br />On GitHub, the HTML representation is unable to render, please try loading this page with nbviewer.org.</b></div><div class=\"sk-container\" hidden><div class=\"sk-item\"><div class=\"sk-estimator sk-toggleable\"><input class=\"sk-toggleable__control sk-hidden--visually\" id=\"sk-estimator-id-2\" type=\"checkbox\" checked><label for=\"sk-estimator-id-2\" class=\"sk-toggleable__label sk-toggleable__label-arrow\">Lasso</label><div class=\"sk-toggleable__content\"><pre>Lasso(alpha=94.26684551178855)</pre></div></div></div></div></div>"
      ],
      "text/plain": [
       "Lasso(alpha=94.26684551178855)"
      ]
     },
     "execution_count": 27,
     "metadata": {},
     "output_type": "execute_result"
    }
   ],
   "source": [
    "from sklearn.preprocessing import PolynomialFeatures\n",
    "\n",
    "\n",
    "poly = PolynomialFeatures(2)\n",
    "\n",
    "lr_train, lr_validate = train_test_split(model_train, test_size=0.15, random_state = 0)\n",
    "\n",
    "lr_train_x = lr_train.drop(['video_id', 'cvt_per_day'], axis = 1)\n",
    "lr_validate_x = lr_validate.drop(['video_id', 'cvt_per_day'], axis = 1)\n",
    "\n",
    "lr_train_xp = poly.fit_transform(lr_train_x)\n",
    "lr_validate_xp = poly.fit_transform(lr_validate_x)\n",
    "lr_train_y = lr_train['cvt_per_day']\n",
    "lr_validate_y = lr_validate['cvt_per_day']\n",
    "\n",
    "# lr_train_xp = pd.DataFrame(data=lr_train_xp, index=data[:], columns=data[0,1:]) \n",
    "\n",
    "alphas = np.logspace (1, 2, num=40)\n",
    "# alphas= [1]\n",
    "scores = np.empty_like(alphas)\n",
    "opt_a = float('-inf')\n",
    "max_score = float('-inf')\n",
    "for i, a in enumerate(alphas):\n",
    "    lasso = Lasso()\n",
    "    lasso.set_params(alpha = a)\n",
    "    lasso.fit(lr_train_xp, lr_train_y)\n",
    "    scores[i] = lasso.score(lr_validate_xp, lr_validate_y)\n",
    "    if scores[i] > max_score:\n",
    "        max_score = scores[i]\n",
    "        opt_a = a\n",
    "        lasso_save = lasso\n",
    "        \n",
    "plt.plot(alphas, scores, color='b', linestyle='dashed', marker='o',markerfacecolor='blue', markersize=6)\n",
    "plt.xlabel('alpha')\n",
    "plt.ylabel('score')\n",
    "plt.grid(True)\n",
    "plt.title('score vs. alpha')\n",
    "plt.show()\n",
    "print ('The optimized alpha and score of Lasso polynomial is: ', opt_a, max_score)\n",
    "\n",
    "# combine the validate data and training data, use the optimal alpha, re-train the model\n",
    "lr_train_xp1 = poly.fit_transform(model_train_x)\n",
    "\n",
    "lasso_fp = Lasso()\n",
    "lasso_fp.set_params(alpha = opt_a)\n",
    "lasso_fp.fit(lr_train_xp1, model_train_y)\n",
    "\n",
    "# lasso_fp is the Lasso model (polynomial feature), to be tested with test data."
   ]
  },
  {
   "cell_type": "code",
   "execution_count": 28,
   "metadata": {
    "colab": {},
    "colab_type": "code",
    "id": "HT50FuWN85iV",
    "outputId": "54446aa2-9e90-4360-8b19-53417aa0b915"
   },
   "outputs": [
    {
     "data": {
      "text/html": [
       "<style>#sk-container-id-3 {color: black;background-color: white;}#sk-container-id-3 pre{padding: 0;}#sk-container-id-3 div.sk-toggleable {background-color: white;}#sk-container-id-3 label.sk-toggleable__label {cursor: pointer;display: block;width: 100%;margin-bottom: 0;padding: 0.3em;box-sizing: border-box;text-align: center;}#sk-container-id-3 label.sk-toggleable__label-arrow:before {content: \"▸\";float: left;margin-right: 0.25em;color: #696969;}#sk-container-id-3 label.sk-toggleable__label-arrow:hover:before {color: black;}#sk-container-id-3 div.sk-estimator:hover label.sk-toggleable__label-arrow:before {color: black;}#sk-container-id-3 div.sk-toggleable__content {max-height: 0;max-width: 0;overflow: hidden;text-align: left;background-color: #f0f8ff;}#sk-container-id-3 div.sk-toggleable__content pre {margin: 0.2em;color: black;border-radius: 0.25em;background-color: #f0f8ff;}#sk-container-id-3 input.sk-toggleable__control:checked~div.sk-toggleable__content {max-height: 200px;max-width: 100%;overflow: auto;}#sk-container-id-3 input.sk-toggleable__control:checked~label.sk-toggleable__label-arrow:before {content: \"▾\";}#sk-container-id-3 div.sk-estimator input.sk-toggleable__control:checked~label.sk-toggleable__label {background-color: #d4ebff;}#sk-container-id-3 div.sk-label input.sk-toggleable__control:checked~label.sk-toggleable__label {background-color: #d4ebff;}#sk-container-id-3 input.sk-hidden--visually {border: 0;clip: rect(1px 1px 1px 1px);clip: rect(1px, 1px, 1px, 1px);height: 1px;margin: -1px;overflow: hidden;padding: 0;position: absolute;width: 1px;}#sk-container-id-3 div.sk-estimator {font-family: monospace;background-color: #f0f8ff;border: 1px dotted black;border-radius: 0.25em;box-sizing: border-box;margin-bottom: 0.5em;}#sk-container-id-3 div.sk-estimator:hover {background-color: #d4ebff;}#sk-container-id-3 div.sk-parallel-item::after {content: \"\";width: 100%;border-bottom: 1px solid gray;flex-grow: 1;}#sk-container-id-3 div.sk-label:hover label.sk-toggleable__label {background-color: #d4ebff;}#sk-container-id-3 div.sk-serial::before {content: \"\";position: absolute;border-left: 1px solid gray;box-sizing: border-box;top: 0;bottom: 0;left: 50%;z-index: 0;}#sk-container-id-3 div.sk-serial {display: flex;flex-direction: column;align-items: center;background-color: white;padding-right: 0.2em;padding-left: 0.2em;position: relative;}#sk-container-id-3 div.sk-item {position: relative;z-index: 1;}#sk-container-id-3 div.sk-parallel {display: flex;align-items: stretch;justify-content: center;background-color: white;position: relative;}#sk-container-id-3 div.sk-item::before, #sk-container-id-3 div.sk-parallel-item::before {content: \"\";position: absolute;border-left: 1px solid gray;box-sizing: border-box;top: 0;bottom: 0;left: 50%;z-index: -1;}#sk-container-id-3 div.sk-parallel-item {display: flex;flex-direction: column;z-index: 1;position: relative;background-color: white;}#sk-container-id-3 div.sk-parallel-item:first-child::after {align-self: flex-end;width: 50%;}#sk-container-id-3 div.sk-parallel-item:last-child::after {align-self: flex-start;width: 50%;}#sk-container-id-3 div.sk-parallel-item:only-child::after {width: 0;}#sk-container-id-3 div.sk-dashed-wrapped {border: 1px dashed gray;margin: 0 0.4em 0.5em 0.4em;box-sizing: border-box;padding-bottom: 0.4em;background-color: white;}#sk-container-id-3 div.sk-label label {font-family: monospace;font-weight: bold;display: inline-block;line-height: 1.2em;}#sk-container-id-3 div.sk-label-container {text-align: center;}#sk-container-id-3 div.sk-container {/* jupyter's `normalize.less` sets `[hidden] { display: none; }` but bootstrap.min.css set `[hidden] { display: none !important; }` so we also need the `!important` here to be able to override the default hidden behavior on the sphinx rendered scikit-learn.org. See: https://github.com/scikit-learn/scikit-learn/issues/21755 */display: inline-block !important;position: relative;}#sk-container-id-3 div.sk-text-repr-fallback {display: none;}</style><div id=\"sk-container-id-3\" class=\"sk-top-container\"><div class=\"sk-text-repr-fallback\"><pre>Lasso(alpha=94.26684551178855)</pre><b>In a Jupyter environment, please rerun this cell to show the HTML representation or trust the notebook. <br />On GitHub, the HTML representation is unable to render, please try loading this page with nbviewer.org.</b></div><div class=\"sk-container\" hidden><div class=\"sk-item\"><div class=\"sk-estimator sk-toggleable\"><input class=\"sk-toggleable__control sk-hidden--visually\" id=\"sk-estimator-id-3\" type=\"checkbox\" checked><label for=\"sk-estimator-id-3\" class=\"sk-toggleable__label sk-toggleable__label-arrow\">Lasso</label><div class=\"sk-toggleable__content\"><pre>Lasso(alpha=94.26684551178855)</pre></div></div></div></div></div>"
      ],
      "text/plain": [
       "Lasso(alpha=94.26684551178855)"
      ]
     },
     "execution_count": 28,
     "metadata": {},
     "output_type": "execute_result"
    }
   ],
   "source": [
    "# combine the validate data and training data, use the optimal alpha, re-train the model\n",
    "lr_train_xp1 = poly.fit_transform(model_train_x)\n",
    "\n",
    "lasso_fp = Lasso()\n",
    "lasso_fp.set_params(alpha = opt_a)\n",
    "lasso_fp.fit(lr_train_xp1, model_train_y)\n",
    "\n",
    "# lasso_fp is the Lasso model (polynomial feature), to be tested with test data."
   ]
  },
  {
   "cell_type": "markdown",
   "metadata": {
    "colab_type": "text",
    "id": "nwfsaPiN85iX"
   },
   "source": [
    "### 3.1.2 Ridge linear regression\n",
    "#### 1) All featuers are linear"
   ]
  },
  {
   "cell_type": "code",
   "execution_count": 29,
   "metadata": {
    "colab": {},
    "colab_type": "code",
    "id": "5XeJtSaP85iX",
    "outputId": "3f034c73-7ecb-4490-d398-b25ce2ae81da"
   },
   "outputs": [
    {
     "data": {
      "image/png": "[encoded data removed]",
      "text/plain": [
       "<Figure size 432x288 with 1 Axes>"
      ]
     },
     "metadata": {
      "needs_background": "light"
     },
     "output_type": "display_data"
    },
    {
     "name": "stdout",
     "output_type": "stream",
     "text": [
      "0.35786551312470927 163.97026580002054\n"
     ]
    }
   ],
   "source": [
    "# Use the same training data set as Lasso (linear features)\n",
    "lr_train, lr_validate = train_test_split(model_train, test_size=0.15, random_state = 0)\n",
    "\n",
    "alphas = np.logspace (-10, 3, num=150)\n",
    "\n",
    "scores = np.empty_like(alphas)\n",
    "opt_a = float('-inf')\n",
    "max_score = float('-inf')\n",
    "for i, a in enumerate(alphas):\n",
    "    ridge = Ridge()\n",
    "    ridge.set_params(alpha = a)\n",
    "    ridge.fit(lr_train_x, lr_train_y)\n",
    "    scores[i] = ridge.score(lr_validate_x, lr_validate_y)\n",
    "    if scores[i] > max_score:\n",
    "        max_score = scores[i]\n",
    "        opt_a = a\n",
    "        ridge_save = ridge\n",
    "plt.plot(alphas, scores, color='r', linestyle='dashed', marker='o',markerfacecolor='r', markersize=6)\n",
    "plt.xlabel('alpha')\n",
    "plt.ylabel('score')\n",
    "plt.grid(True)\n",
    "plt.title('score vs. alpha')\n",
    "plt.show()\n",
    "print (max_score, opt_a)\n"
   ]
  },
  {
   "cell_type": "code",
   "execution_count": 30,
   "metadata": {
    "colab": {},
    "colab_type": "code",
    "id": "p4y_Udyn85ic",
    "outputId": "e95b27f9-389c-4b12-b3c2-4be90797929e"
   },
   "outputs": [
    {
     "data": {
      "text/html": [
       "<style>#sk-container-id-4 {color: black;background-color: white;}#sk-container-id-4 pre{padding: 0;}#sk-container-id-4 div.sk-toggleable {background-color: white;}#sk-container-id-4 label.sk-toggleable__label {cursor: pointer;display: block;width: 100%;margin-bottom: 0;padding: 0.3em;box-sizing: border-box;text-align: center;}#sk-container-id-4 label.sk-toggleable__label-arrow:before {content: \"▸\";float: left;margin-right: 0.25em;color: #696969;}#sk-container-id-4 label.sk-toggleable__label-arrow:hover:before {color: black;}#sk-container-id-4 div.sk-estimator:hover label.sk-toggleable__label-arrow:before {color: black;}#sk-container-id-4 div.sk-toggleable__content {max-height: 0;max-width: 0;overflow: hidden;text-align: left;background-color: #f0f8ff;}#sk-container-id-4 div.sk-toggleable__content pre {margin: 0.2em;color: black;border-radius: 0.25em;background-color: #f0f8ff;}#sk-container-id-4 input.sk-toggleable__control:checked~div.sk-toggleable__content {max-height: 200px;max-width: 100%;overflow: auto;}#sk-container-id-4 input.sk-toggleable__control:checked~label.sk-toggleable__label-arrow:before {content: \"▾\";}#sk-container-id-4 div.sk-estimator input.sk-toggleable__control:checked~label.sk-toggleable__label {background-color: #d4ebff;}#sk-container-id-4 div.sk-label input.sk-toggleable__control:checked~label.sk-toggleable__label {background-color: #d4ebff;}#sk-container-id-4 input.sk-hidden--visually {border: 0;clip: rect(1px 1px 1px 1px);clip: rect(1px, 1px, 1px, 1px);height: 1px;margin: -1px;overflow: hidden;padding: 0;position: absolute;width: 1px;}#sk-container-id-4 div.sk-estimator {font-family: monospace;background-color: #f0f8ff;border: 1px dotted black;border-radius: 0.25em;box-sizing: border-box;margin-bottom: 0.5em;}#sk-container-id-4 div.sk-estimator:hover {background-color: #d4ebff;}#sk-container-id-4 div.sk-parallel-item::after {content: \"\";width: 100%;border-bottom: 1px solid gray;flex-grow: 1;}#sk-container-id-4 div.sk-label:hover label.sk-toggleable__label {background-color: #d4ebff;}#sk-container-id-4 div.sk-serial::before {content: \"\";position: absolute;border-left: 1px solid gray;box-sizing: border-box;top: 0;bottom: 0;left: 50%;z-index: 0;}#sk-container-id-4 div.sk-serial {display: flex;flex-direction: column;align-items: center;background-color: white;padding-right: 0.2em;padding-left: 0.2em;position: relative;}#sk-container-id-4 div.sk-item {position: relative;z-index: 1;}#sk-container-id-4 div.sk-parallel {display: flex;align-items: stretch;justify-content: center;background-color: white;position: relative;}#sk-container-id-4 div.sk-item::before, #sk-container-id-4 div.sk-parallel-item::before {content: \"\";position: absolute;border-left: 1px solid gray;box-sizing: border-box;top: 0;bottom: 0;left: 50%;z-index: -1;}#sk-container-id-4 div.sk-parallel-item {display: flex;flex-direction: column;z-index: 1;position: relative;background-color: white;}#sk-container-id-4 div.sk-parallel-item:first-child::after {align-self: flex-end;width: 50%;}#sk-container-id-4 div.sk-parallel-item:last-child::after {align-self: flex-start;width: 50%;}#sk-container-id-4 div.sk-parallel-item:only-child::after {width: 0;}#sk-container-id-4 div.sk-dashed-wrapped {border: 1px dashed gray;margin: 0 0.4em 0.5em 0.4em;box-sizing: border-box;padding-bottom: 0.4em;background-color: white;}#sk-container-id-4 div.sk-label label {font-family: monospace;font-weight: bold;display: inline-block;line-height: 1.2em;}#sk-container-id-4 div.sk-label-container {text-align: center;}#sk-container-id-4 div.sk-container {/* jupyter's `normalize.less` sets `[hidden] { display: none; }` but bootstrap.min.css set `[hidden] { display: none !important; }` so we also need the `!important` here to be able to override the default hidden behavior on the sphinx rendered scikit-learn.org. See: https://github.com/scikit-learn/scikit-learn/issues/21755 */display: inline-block !important;position: relative;}#sk-container-id-4 div.sk-text-repr-fallback {display: none;}</style><div id=\"sk-container-id-4\" class=\"sk-top-container\"><div class=\"sk-text-repr-fallback\"><pre>Ridge(alpha=163.97026580002054)</pre><b>In a Jupyter environment, please rerun this cell to show the HTML representation or trust the notebook. <br />On GitHub, the HTML representation is unable to render, please try loading this page with nbviewer.org.</b></div><div class=\"sk-container\" hidden><div class=\"sk-item\"><div class=\"sk-estimator sk-toggleable\"><input class=\"sk-toggleable__control sk-hidden--visually\" id=\"sk-estimator-id-4\" type=\"checkbox\" checked><label for=\"sk-estimator-id-4\" class=\"sk-toggleable__label sk-toggleable__label-arrow\">Ridge</label><div class=\"sk-toggleable__content\"><pre>Ridge(alpha=163.97026580002054)</pre></div></div></div></div></div>"
      ],
      "text/plain": [
       "Ridge(alpha=163.97026580002054)"
      ]
     },
     "execution_count": 30,
     "metadata": {},
     "output_type": "execute_result"
    }
   ],
   "source": [
    "# add the 15% validate data, use the optimal alpha, re-train the model\n",
    "\n",
    "ridge_f = Ridge()\n",
    "ridge_f.set_params(alpha = opt_a)\n",
    "ridge_f.fit(model_train_x, model_train_y)\n",
    "\n",
    "# ridge_f is the Ridge model (linear feature), to be tested with test data."
   ]
  },
  {
   "cell_type": "markdown",
   "metadata": {
    "colab_type": "text",
    "id": "jio4lRDc85ig"
   },
   "source": [
    "#### 2) Polynomial featuers"
   ]
  },
  {
   "cell_type": "code",
   "execution_count": 31,
   "metadata": {
    "colab": {},
    "colab_type": "code",
    "id": "hOfEydTb85ih",
    "outputId": "211b991b-1e4a-43bc-d9b2-dc55a083ab29"
   },
   "outputs": [
    {
     "data": {
      "image/png": "[encoded data removed]",
      "text/plain": [
       "<Figure size 432x288 with 1 Axes>"
      ]
     },
     "metadata": {
      "needs_background": "light"
     },
     "output_type": "display_data"
    },
    {
     "name": "stdout",
     "output_type": "stream",
     "text": [
      "0.48801718480887657 14.38449888287663\n"
     ]
    }
   ],
   "source": [
    "# Use the same training data set as Lasso (polynomial features)\n",
    "from sklearn.preprocessing import PolynomialFeatures\n",
    "poly = PolynomialFeatures(2)\n",
    "\n",
    "lr_train, lr_validate = train_test_split(model_train, test_size=0.15, random_state = 0)\n",
    "\n",
    "lr_train_x = lr_train.drop(['video_id', 'cvt_per_day'], axis = 1)\n",
    "lr_validate_x = lr_validate.drop(['video_id', 'cvt_per_day'], axis = 1)\n",
    "lr_train_y = lr_train['cvt_per_day']\n",
    "lr_validate_y = lr_validate['cvt_per_day']\n",
    "\n",
    "lr_train_xp = poly.fit_transform(lr_train_x)\n",
    "lr_validate_xp = poly.fit_transform(lr_validate_x)\n",
    "\n",
    "alphas = np.logspace (-2, 2, num=20)\n",
    "# alphas= [1]\n",
    "scores = np.empty_like(alphas)\n",
    "opt_a = float('-inf')\n",
    "max_score = float('-inf')\n",
    "for i, a in enumerate(alphas):\n",
    "    ridge = Ridge()\n",
    "    ridge.set_params(alpha = a)\n",
    "    ridge.fit(lr_train_xp, lr_train_y)\n",
    "    scores[i] = ridge.score(lr_validate_xp, lr_validate_y)\n",
    "    if scores[i] > max_score:\n",
    "        max_score = scores[i]\n",
    "        opt_a = a\n",
    "        ridge_save = ridge\n",
    "        \n",
    "plt.plot(alphas, scores, color='brown', linestyle='dashed', marker='o',markerfacecolor='g', markersize=6)\n",
    "plt.xlabel('alpha')\n",
    "plt.ylabel('score')\n",
    "plt.grid(True)\n",
    "plt.title('score vs. alpha')\n",
    "plt.show()\n",
    "print (max_score, opt_a)\n",
    "\n"
   ]
  },
  {
   "cell_type": "code",
   "execution_count": 32,
   "metadata": {
    "colab": {},
    "colab_type": "code",
    "id": "qTGaS2DF85ik",
    "outputId": "2e4c89a7-69e1-4594-d920-48f47442bf5d"
   },
   "outputs": [
    {
     "data": {
      "text/html": [
       "<style>#sk-container-id-5 {color: black;background-color: white;}#sk-container-id-5 pre{padding: 0;}#sk-container-id-5 div.sk-toggleable {background-color: white;}#sk-container-id-5 label.sk-toggleable__label {cursor: pointer;display: block;width: 100%;margin-bottom: 0;padding: 0.3em;box-sizing: border-box;text-align: center;}#sk-container-id-5 label.sk-toggleable__label-arrow:before {content: \"▸\";float: left;margin-right: 0.25em;color: #696969;}#sk-container-id-5 label.sk-toggleable__label-arrow:hover:before {color: black;}#sk-container-id-5 div.sk-estimator:hover label.sk-toggleable__label-arrow:before {color: black;}#sk-container-id-5 div.sk-toggleable__content {max-height: 0;max-width: 0;overflow: hidden;text-align: left;background-color: #f0f8ff;}#sk-container-id-5 div.sk-toggleable__content pre {margin: 0.2em;color: black;border-radius: 0.25em;background-color: #f0f8ff;}#sk-container-id-5 input.sk-toggleable__control:checked~div.sk-toggleable__content {max-height: 200px;max-width: 100%;overflow: auto;}#sk-container-id-5 input.sk-toggleable__control:checked~label.sk-toggleable__label-arrow:before {content: \"▾\";}#sk-container-id-5 div.sk-estimator input.sk-toggleable__control:checked~label.sk-toggleable__label {background-color: #d4ebff;}#sk-container-id-5 div.sk-label input.sk-toggleable__control:checked~label.sk-toggleable__label {background-color: #d4ebff;}#sk-container-id-5 input.sk-hidden--visually {border: 0;clip: rect(1px 1px 1px 1px);clip: rect(1px, 1px, 1px, 1px);height: 1px;margin: -1px;overflow: hidden;padding: 0;position: absolute;width: 1px;}#sk-container-id-5 div.sk-estimator {font-family: monospace;background-color: #f0f8ff;border: 1px dotted black;border-radius: 0.25em;box-sizing: border-box;margin-bottom: 0.5em;}#sk-container-id-5 div.sk-estimator:hover {background-color: #d4ebff;}#sk-container-id-5 div.sk-parallel-item::after {content: \"\";width: 100%;border-bottom: 1px solid gray;flex-grow: 1;}#sk-container-id-5 div.sk-label:hover label.sk-toggleable__label {background-color: #d4ebff;}#sk-container-id-5 div.sk-serial::before {content: \"\";position: absolute;border-left: 1px solid gray;box-sizing: border-box;top: 0;bottom: 0;left: 50%;z-index: 0;}#sk-container-id-5 div.sk-serial {display: flex;flex-direction: column;align-items: center;background-color: white;padding-right: 0.2em;padding-left: 0.2em;position: relative;}#sk-container-id-5 div.sk-item {position: relative;z-index: 1;}#sk-container-id-5 div.sk-parallel {display: flex;align-items: stretch;justify-content: center;background-color: white;position: relative;}#sk-container-id-5 div.sk-item::before, #sk-container-id-5 div.sk-parallel-item::before {content: \"\";position: absolute;border-left: 1px solid gray;box-sizing: border-box;top: 0;bottom: 0;left: 50%;z-index: -1;}#sk-container-id-5 div.sk-parallel-item {display: flex;flex-direction: column;z-index: 1;position: relative;background-color: white;}#sk-container-id-5 div.sk-parallel-item:first-child::after {align-self: flex-end;width: 50%;}#sk-container-id-5 div.sk-parallel-item:last-child::after {align-self: flex-start;width: 50%;}#sk-container-id-5 div.sk-parallel-item:only-child::after {width: 0;}#sk-container-id-5 div.sk-dashed-wrapped {border: 1px dashed gray;margin: 0 0.4em 0.5em 0.4em;box-sizing: border-box;padding-bottom: 0.4em;background-color: white;}#sk-container-id-5 div.sk-label label {font-family: monospace;font-weight: bold;display: inline-block;line-height: 1.2em;}#sk-container-id-5 div.sk-label-container {text-align: center;}#sk-container-id-5 div.sk-container {/* jupyter's `normalize.less` sets `[hidden] { display: none; }` but bootstrap.min.css set `[hidden] { display: none !important; }` so we also need the `!important` here to be able to override the default hidden behavior on the sphinx rendered scikit-learn.org. See: https://github.com/scikit-learn/scikit-learn/issues/21755 */display: inline-block !important;position: relative;}#sk-container-id-5 div.sk-text-repr-fallback {display: none;}</style><div id=\"sk-container-id-5\" class=\"sk-top-container\"><div class=\"sk-text-repr-fallback\"><pre>Ridge(alpha=14.38449888287663)</pre><b>In a Jupyter environment, please rerun this cell to show the HTML representation or trust the notebook. <br />On GitHub, the HTML representation is unable to render, please try loading this page with nbviewer.org.</b></div><div class=\"sk-container\" hidden><div class=\"sk-item\"><div class=\"sk-estimator sk-toggleable\"><input class=\"sk-toggleable__control sk-hidden--visually\" id=\"sk-estimator-id-5\" type=\"checkbox\" checked><label for=\"sk-estimator-id-5\" class=\"sk-toggleable__label sk-toggleable__label-arrow\">Ridge</label><div class=\"sk-toggleable__content\"><pre>Ridge(alpha=14.38449888287663)</pre></div></div></div></div></div>"
      ],
      "text/plain": [
       "Ridge(alpha=14.38449888287663)"
      ]
     },
     "execution_count": 32,
     "metadata": {},
     "output_type": "execute_result"
    }
   ],
   "source": [
    "# add the 15% validate data, use the optimal alpha, re-train the model\n",
    "lr_train_xp1 = poly.fit_transform(model_train_x)\n",
    "\n",
    "ridge_fp = Ridge()\n",
    "ridge_fp.set_params(alpha = opt_a)\n",
    "ridge_fp.fit(lr_train_xp1, model_train_y)\n",
    "\n",
    "# ridge_fp is the Ridge model (polynomial feature), to be tested with test data."
   ]
  },
  {
   "cell_type": "markdown",
   "metadata": {
    "colab_type": "text",
    "id": "D7X4XCj785io"
   },
   "source": [
    "## 3.2: Non-linear model\n",
    "Random forest with Gridsearch cross-validation is used. The 'mean_scores' is used to narrow down the paramenters of n_estimator (number of trees in the forest) and Max_depth (maximum depth of the tree)."
   ]
  },
  {
   "cell_type": "markdown",
   "metadata": {
    "colab_type": "text",
    "id": "jL9wEBRo85ir"
   },
   "source": [
    "### Random forest"
   ]
  },
  {
   "cell_type": "code",
   "execution_count": 33,
   "metadata": {
    "colab": {},
    "colab_type": "code",
    "id": "w2V8i5km85is",
    "outputId": "314ad83a-6d06-4836-c8a9-d1436f8c3d8f"
   },
   "outputs": [
    {
     "data": {
      "text/html": [
       "<style>#sk-container-id-6 {color: black;background-color: white;}#sk-container-id-6 pre{padding: 0;}#sk-container-id-6 div.sk-toggleable {background-color: white;}#sk-container-id-6 label.sk-toggleable__label {cursor: pointer;display: block;width: 100%;margin-bottom: 0;padding: 0.3em;box-sizing: border-box;text-align: center;}#sk-container-id-6 label.sk-toggleable__label-arrow:before {content: \"▸\";float: left;margin-right: 0.25em;color: #696969;}#sk-container-id-6 label.sk-toggleable__label-arrow:hover:before {color: black;}#sk-container-id-6 div.sk-estimator:hover label.sk-toggleable__label-arrow:before {color: black;}#sk-container-id-6 div.sk-toggleable__content {max-height: 0;max-width: 0;overflow: hidden;text-align: left;background-color: #f0f8ff;}#sk-container-id-6 div.sk-toggleable__content pre {margin: 0.2em;color: black;border-radius: 0.25em;background-color: #f0f8ff;}#sk-container-id-6 input.sk-toggleable__control:checked~div.sk-toggleable__content {max-height: 200px;max-width: 100%;overflow: auto;}#sk-container-id-6 input.sk-toggleable__control:checked~label.sk-toggleable__label-arrow:before {content: \"▾\";}#sk-container-id-6 div.sk-estimator input.sk-toggleable__control:checked~label.sk-toggleable__label {background-color: #d4ebff;}#sk-container-id-6 div.sk-label input.sk-toggleable__control:checked~label.sk-toggleable__label {background-color: #d4ebff;}#sk-container-id-6 input.sk-hidden--visually {border: 0;clip: rect(1px 1px 1px 1px);clip: rect(1px, 1px, 1px, 1px);height: 1px;margin: -1px;overflow: hidden;padding: 0;position: absolute;width: 1px;}#sk-container-id-6 div.sk-estimator {font-family: monospace;background-color: #f0f8ff;border: 1px dotted black;border-radius: 0.25em;box-sizing: border-box;margin-bottom: 0.5em;}#sk-container-id-6 div.sk-estimator:hover {background-color: #d4ebff;}#sk-container-id-6 div.sk-parallel-item::after {content: \"\";width: 100%;border-bottom: 1px solid gray;flex-grow: 1;}#sk-container-id-6 div.sk-label:hover label.sk-toggleable__label {background-color: #d4ebff;}#sk-container-id-6 div.sk-serial::before {content: \"\";position: absolute;border-left: 1px solid gray;box-sizing: border-box;top: 0;bottom: 0;left: 50%;z-index: 0;}#sk-container-id-6 div.sk-serial {display: flex;flex-direction: column;align-items: center;background-color: white;padding-right: 0.2em;padding-left: 0.2em;position: relative;}#sk-container-id-6 div.sk-item {position: relative;z-index: 1;}#sk-container-id-6 div.sk-parallel {display: flex;align-items: stretch;justify-content: center;background-color: white;position: relative;}#sk-container-id-6 div.sk-item::before, #sk-container-id-6 div.sk-parallel-item::before {content: \"\";position: absolute;border-left: 1px solid gray;box-sizing: border-box;top: 0;bottom: 0;left: 50%;z-index: -1;}#sk-container-id-6 div.sk-parallel-item {display: flex;flex-direction: column;z-index: 1;position: relative;background-color: white;}#sk-container-id-6 div.sk-parallel-item:first-child::after {align-self: flex-end;width: 50%;}#sk-container-id-6 div.sk-parallel-item:last-child::after {align-self: flex-start;width: 50%;}#sk-container-id-6 div.sk-parallel-item:only-child::after {width: 0;}#sk-container-id-6 div.sk-dashed-wrapped {border: 1px dashed gray;margin: 0 0.4em 0.5em 0.4em;box-sizing: border-box;padding-bottom: 0.4em;background-color: white;}#sk-container-id-6 div.sk-label label {font-family: monospace;font-weight: bold;display: inline-block;line-height: 1.2em;}#sk-container-id-6 div.sk-label-container {text-align: center;}#sk-container-id-6 div.sk-container {/* jupyter's `normalize.less` sets `[hidden] { display: none; }` but bootstrap.min.css set `[hidden] { display: none !important; }` so we also need the `!important` here to be able to override the default hidden behavior on the sphinx rendered scikit-learn.org. See: https://github.com/scikit-learn/scikit-learn/issues/21755 */display: inline-block !important;position: relative;}#sk-container-id-6 div.sk-text-repr-fallback {display: none;}</style><div id=\"sk-container-id-6\" class=\"sk-top-container\"><div class=\"sk-text-repr-fallback\"><pre>GridSearchCV(cv=5,\n",
       "             estimator=RandomForestRegressor(max_features=&#x27;sqrt&#x27;,\n",
       "                                             random_state=2),\n",
       "             param_grid={&#x27;max_depth&#x27;: [12, 13, 14, 15, 16, 17],\n",
       "                         &#x27;n_estimators&#x27;: [54, 55, 56, 57, 58, 59, 60, 62]})</pre><b>In a Jupyter environment, please rerun this cell to show the HTML representation or trust the notebook. <br />On GitHub, the HTML representation is unable to render, please try loading this page with nbviewer.org.</b></div><div class=\"sk-container\" hidden><div class=\"sk-item sk-dashed-wrapped\"><div class=\"sk-label-container\"><div class=\"sk-label sk-toggleable\"><input class=\"sk-toggleable__control sk-hidden--visually\" id=\"sk-estimator-id-6\" type=\"checkbox\" ><label for=\"sk-estimator-id-6\" class=\"sk-toggleable__label sk-toggleable__label-arrow\">GridSearchCV</label><div class=\"sk-toggleable__content\"><pre>GridSearchCV(cv=5,\n",
       "             estimator=RandomForestRegressor(max_features=&#x27;sqrt&#x27;,\n",
       "                                             random_state=2),\n",
       "             param_grid={&#x27;max_depth&#x27;: [12, 13, 14, 15, 16, 17],\n",
       "                         &#x27;n_estimators&#x27;: [54, 55, 56, 57, 58, 59, 60, 62]})</pre></div></div></div><div class=\"sk-parallel\"><div class=\"sk-parallel-item\"><div class=\"sk-item\"><div class=\"sk-label-container\"><div class=\"sk-label sk-toggleable\"><input class=\"sk-toggleable__control sk-hidden--visually\" id=\"sk-estimator-id-7\" type=\"checkbox\" ><label for=\"sk-estimator-id-7\" class=\"sk-toggleable__label sk-toggleable__label-arrow\">estimator: RandomForestRegressor</label><div class=\"sk-toggleable__content\"><pre>RandomForestRegressor(max_features=&#x27;sqrt&#x27;, random_state=2)</pre></div></div></div><div class=\"sk-serial\"><div class=\"sk-item\"><div class=\"sk-estimator sk-toggleable\"><input class=\"sk-toggleable__control sk-hidden--visually\" id=\"sk-estimator-id-8\" type=\"checkbox\" ><label for=\"sk-estimator-id-8\" class=\"sk-toggleable__label sk-toggleable__label-arrow\">RandomForestRegressor</label><div class=\"sk-toggleable__content\"><pre>RandomForestRegressor(max_features=&#x27;sqrt&#x27;, random_state=2)</pre></div></div></div></div></div></div></div></div></div></div>"
      ],
      "text/plain": [
       "GridSearchCV(cv=5,\n",
       "             estimator=RandomForestRegressor(max_features='sqrt',\n",
       "                                             random_state=2),\n",
       "             param_grid={'max_depth': [12, 13, 14, 15, 16, 17],\n",
       "                         'n_estimators': [54, 55, 56, 57, 58, 59, 60, 62]})"
      ]
     },
     "execution_count": 33,
     "metadata": {},
     "output_type": "execute_result"
    }
   ],
   "source": [
    "from sklearn.ensemble import RandomForestRegressor\n",
    "from sklearn.model_selection import cross_val_score\n",
    "from sklearn.model_selection import cross_validate\n",
    "# from sklearn.grid_search import GridSearchCV\n",
    "from sklearn.model_selection import GridSearchCV\n",
    "\n",
    "rf_train, rf_test = train_test_split(model_train, test_size=0.15, random_state = 0)\n",
    "\n",
    "rf_train_x = rf_train.drop(['video_id', 'cvt_per_day'], axis = 1)\n",
    "rf_test_x = rf_test.drop(['video_id', 'cvt_per_day'], axis = 1)\n",
    "rf_train_y = rf_train['cvt_per_day']\n",
    "rf_test_y = rf_test['cvt_per_day']\n",
    "\n",
    "param_grid = {\n",
    "                 'n_estimators': [54, 55, 56, 57, 58, 59, 60, 62],\n",
    "                 'max_depth': [12, 13, 14, 15, 16, 17]\n",
    "             }\n",
    "\n",
    "rf = RandomForestRegressor(random_state=2, max_features = 'sqrt')\n",
    "grid_rf = GridSearchCV(rf, param_grid, cv=5)\n",
    "grid_rf.fit(rf_train_x, rf_train_y)"
   ]
  },
  {
   "cell_type": "code",
   "execution_count": 34,
   "metadata": {
    "colab": {},
    "colab_type": "code",
    "id": "77gaHA_M85iw",
    "outputId": "479f4709-9d9c-4c58-aabe-33f4b734d233"
   },
   "outputs": [
    {
     "data": {
      "text/plain": [
       "{'max_depth': 16, 'n_estimators': 55}"
      ]
     },
     "execution_count": 34,
     "metadata": {},
     "output_type": "execute_result"
    }
   ],
   "source": [
    "grid_rf.best_params_"
   ]
  },
  {
   "cell_type": "code",
   "execution_count": 35,
   "metadata": {
    "colab": {},
    "colab_type": "code",
    "collapsed": true,
    "id": "b3yVUCvk85iz",
    "outputId": "9a42bdd2-522e-4084-cd92-6c829fe8eb4b"
   },
   "outputs": [
    {
     "data": {
      "text/plain": [
       "{'mean_fit_time': array([0.17257729, 0.1719337 , 0.17478304, 0.17738237, 0.18030567,\n",
       "        0.18307018, 0.18661184, 0.19409099, 0.18034444, 0.18411913,\n",
       "        0.18950415, 0.19929657, 0.19807901, 0.19703841, 0.1999105 ,\n",
       "        0.20694876, 0.20336494, 0.19391446, 0.19774694, 0.20240631,\n",
       "        0.22922382, 0.21721449, 0.21734176, 0.21983776, 0.20232835,\n",
       "        0.20418439, 0.21055145, 0.21610408, 0.218543  , 0.21823325,\n",
       "        0.22390728, 0.25383692, 0.21042237, 0.2124577 , 0.21881261,\n",
       "        0.22576504, 0.22586927, 0.2300868 , 0.23430924, 0.24759512,\n",
       "        0.21725364, 0.24953299, 0.23162146, 0.23177838, 0.23422198,\n",
       "        0.25352378, 0.24338074, 0.25161428]),\n",
       " 'std_fit_time': array([0.00542146, 0.00119977, 0.00088602, 0.00098114, 0.00044591,\n",
       "        0.00089879, 0.00086874, 0.00198632, 0.00154217, 0.00134145,\n",
       "        0.00266778, 0.00956954, 0.0095178 , 0.0017922 , 0.00159661,\n",
       "        0.00173109, 0.01836091, 0.00177516, 0.00167548, 0.00166545,\n",
       "        0.01764368, 0.01194986, 0.00555723, 0.00049125, 0.00393893,\n",
       "        0.00257767, 0.0059348 , 0.00486449, 0.00624487, 0.00128235,\n",
       "        0.00237633, 0.02039319, 0.00228444, 0.00296699, 0.00368935,\n",
       "        0.00658751, 0.00697327, 0.00574007, 0.00298628, 0.01116224,\n",
       "        0.00103271, 0.02684474, 0.00498219, 0.00067497, 0.00150056,\n",
       "        0.01879268, 0.00240158, 0.00210462]),\n",
       " 'mean_score_time': array([0.00896192, 0.0089663 , 0.00914884, 0.0090529 , 0.0093329 ,\n",
       "        0.0094244 , 0.00965366, 0.00980601, 0.00906162, 0.00939379,\n",
       "        0.0096539 , 0.01019144, 0.00999188, 0.00990834, 0.01005511,\n",
       "        0.01035342, 0.01020889, 0.00967321, 0.00994229, 0.0100956 ,\n",
       "        0.01271019, 0.01062059, 0.01068687, 0.01078863, 0.01002765,\n",
       "        0.01011963, 0.01036739, 0.01048574, 0.01097655, 0.01073556,\n",
       "        0.01098599, 0.01270442, 0.01031761, 0.0104928 , 0.01072674,\n",
       "        0.0110158 , 0.01083341, 0.01121788, 0.01161146, 0.01175718,\n",
       "        0.01074996, 0.01226664, 0.01112061, 0.01122847, 0.01144309,\n",
       "        0.01217599, 0.01166492, 0.01204553]),\n",
       " 'std_score_time': array([9.87762160e-05, 6.83377023e-05, 1.69113375e-04, 1.11443036e-04,\n",
       "        1.57470734e-04, 8.83898932e-05, 1.37718678e-04, 2.08924806e-04,\n",
       "        5.70653562e-05, 1.63170136e-04, 2.36845002e-04, 8.40090022e-04,\n",
       "        2.82647171e-04, 8.95921823e-05, 1.27502226e-04, 1.22164396e-04,\n",
       "        6.21258000e-04, 1.81227832e-04, 1.13454081e-04, 3.24212837e-04,\n",
       "        3.19387958e-03, 4.94310705e-04, 2.62942468e-04, 1.65740763e-04,\n",
       "        2.34912750e-04, 2.37678686e-04, 1.23186983e-04, 7.22926020e-05,\n",
       "        6.97947381e-04, 9.55819340e-05, 2.99536965e-04, 1.15679937e-03,\n",
       "        1.83507694e-04, 2.50318027e-04, 6.72951211e-05, 1.70663783e-04,\n",
       "        3.24584164e-04, 1.48812191e-04, 3.74115841e-04, 2.50857154e-04,\n",
       "        8.59468522e-05, 2.17211376e-03, 1.04879073e-04, 1.72488459e-04,\n",
       "        1.06384967e-04, 1.04405036e-03, 8.63591983e-05, 1.14408886e-04]),\n",
       " 'param_max_depth': masked_array(data=[12, 12, 12, 12, 12, 12, 12, 12, 13, 13, 13, 13, 13, 13,\n",
       "                    13, 13, 14, 14, 14, 14, 14, 14, 14, 14, 15, 15, 15, 15,\n",
       "                    15, 15, 15, 15, 16, 16, 16, 16, 16, 16, 16, 16, 17, 17,\n",
       "                    17, 17, 17, 17, 17, 17],\n",
       "              mask=[False, False, False, False, False, False, False, False,\n",
       "                    False, False, False, False, False, False, False, False,\n",
       "                    False, False, False, False, False, False, False, False,\n",
       "                    False, False, False, False, False, False, False, False,\n",
       "                    False, False, False, False, False, False, False, False,\n",
       "                    False, False, False, False, False, False, False, False],\n",
       "        fill_value='?',\n",
       "             dtype=object),\n",
       " 'param_n_estimators': masked_array(data=[54, 55, 56, 57, 58, 59, 60, 62, 54, 55, 56, 57, 58, 59,\n",
       "                    60, 62, 54, 55, 56, 57, 58, 59, 60, 62, 54, 55, 56, 57,\n",
       "                    58, 59, 60, 62, 54, 55, 56, 57, 58, 59, 60, 62, 54, 55,\n",
       "                    56, 57, 58, 59, 60, 62],\n",
       "              mask=[False, False, False, False, False, False, False, False,\n",
       "                    False, False, False, False, False, False, False, False,\n",
       "                    False, False, False, False, False, False, False, False,\n",
       "                    False, False, False, False, False, False, False, False,\n",
       "                    False, False, False, False, False, False, False, False,\n",
       "                    False, False, False, False, False, False, False, False],\n",
       "        fill_value='?',\n",
       "             dtype=object),\n",
       " 'params': [{'max_depth': 12, 'n_estimators': 54},\n",
       "  {'max_depth': 12, 'n_estimators': 55},\n",
       "  {'max_depth': 12, 'n_estimators': 56},\n",
       "  {'max_depth': 12, 'n_estimators': 57},\n",
       "  {'max_depth': 12, 'n_estimators': 58},\n",
       "  {'max_depth': 12, 'n_estimators': 59},\n",
       "  {'max_depth': 12, 'n_estimators': 60},\n",
       "  {'max_depth': 12, 'n_estimators': 62},\n",
       "  {'max_depth': 13, 'n_estimators': 54},\n",
       "  {'max_depth': 13, 'n_estimators': 55},\n",
       "  {'max_depth': 13, 'n_estimators': 56},\n",
       "  {'max_depth': 13, 'n_estimators': 57},\n",
       "  {'max_depth': 13, 'n_estimators': 58},\n",
       "  {'max_depth': 13, 'n_estimators': 59},\n",
       "  {'max_depth': 13, 'n_estimators': 60},\n",
       "  {'max_depth': 13, 'n_estimators': 62},\n",
       "  {'max_depth': 14, 'n_estimators': 54},\n",
       "  {'max_depth': 14, 'n_estimators': 55},\n",
       "  {'max_depth': 14, 'n_estimators': 56},\n",
       "  {'max_depth': 14, 'n_estimators': 57},\n",
       "  {'max_depth': 14, 'n_estimators': 58},\n",
       "  {'max_depth': 14, 'n_estimators': 59},\n",
       "  {'max_depth': 14, 'n_estimators': 60},\n",
       "  {'max_depth': 14, 'n_estimators': 62},\n",
       "  {'max_depth': 15, 'n_estimators': 54},\n",
       "  {'max_depth': 15, 'n_estimators': 55},\n",
       "  {'max_depth': 15, 'n_estimators': 56},\n",
       "  {'max_depth': 15, 'n_estimators': 57},\n",
       "  {'max_depth': 15, 'n_estimators': 58},\n",
       "  {'max_depth': 15, 'n_estimators': 59},\n",
       "  {'max_depth': 15, 'n_estimators': 60},\n",
       "  {'max_depth': 15, 'n_estimators': 62},\n",
       "  {'max_depth': 16, 'n_estimators': 54},\n",
       "  {'max_depth': 16, 'n_estimators': 55},\n",
       "  {'max_depth': 16, 'n_estimators': 56},\n",
       "  {'max_depth': 16, 'n_estimators': 57},\n",
       "  {'max_depth': 16, 'n_estimators': 58},\n",
       "  {'max_depth': 16, 'n_estimators': 59},\n",
       "  {'max_depth': 16, 'n_estimators': 60},\n",
       "  {'max_depth': 16, 'n_estimators': 62},\n",
       "  {'max_depth': 17, 'n_estimators': 54},\n",
       "  {'max_depth': 17, 'n_estimators': 55},\n",
       "  {'max_depth': 17, 'n_estimators': 56},\n",
       "  {'max_depth': 17, 'n_estimators': 57},\n",
       "  {'max_depth': 17, 'n_estimators': 58},\n",
       "  {'max_depth': 17, 'n_estimators': 59},\n",
       "  {'max_depth': 17, 'n_estimators': 60},\n",
       "  {'max_depth': 17, 'n_estimators': 62}],\n",
       " 'split0_test_score': array([0.41725812, 0.42078904, 0.42101517, 0.41607727, 0.42384068,\n",
       "        0.42111633, 0.42129745, 0.42508124, 0.39010921, 0.39492796,\n",
       "        0.39585622, 0.3907885 , 0.39383742, 0.39378627, 0.39500555,\n",
       "        0.39866901, 0.43892495, 0.44285381, 0.44298341, 0.43824746,\n",
       "        0.43523112, 0.43264347, 0.43439046, 0.43503097, 0.38258429,\n",
       "        0.38758271, 0.39180081, 0.38730103, 0.38335472, 0.38375582,\n",
       "        0.38840075, 0.39049621, 0.44618276, 0.44975352, 0.44785602,\n",
       "        0.441784  , 0.44141496, 0.4415257 , 0.44019479, 0.44120362,\n",
       "        0.3960153 , 0.39980543, 0.40298989, 0.39830857, 0.39399745,\n",
       "        0.39735103, 0.40329856, 0.40516434]),\n",
       " 'split1_test_score': array([0.45503755, 0.45921709, 0.46463588, 0.46548131, 0.46419808,\n",
       "        0.46063329, 0.45279406, 0.457802  , 0.48043468, 0.48473303,\n",
       "        0.48845565, 0.47674289, 0.47922001, 0.47400682, 0.4709423 ,\n",
       "        0.47223835, 0.43013339, 0.43532285, 0.43922108, 0.43822336,\n",
       "        0.4404156 , 0.43865141, 0.44029277, 0.43994097, 0.44432949,\n",
       "        0.44835094, 0.44744302, 0.43404621, 0.43917425, 0.43884749,\n",
       "        0.43317414, 0.43343097, 0.5373893 , 0.53968878, 0.53446362,\n",
       "        0.53187461, 0.53491904, 0.53435198, 0.53203792, 0.52803198,\n",
       "        0.47571661, 0.47854377, 0.4850363 , 0.48249845, 0.48106501,\n",
       "        0.47168832, 0.46873407, 0.46072158]),\n",
       " 'split2_test_score': array([0.69603284, 0.7021666 , 0.701916  , 0.7049381 , 0.71029166,\n",
       "        0.70590866, 0.71305728, 0.71280265, 0.69449743, 0.69822307,\n",
       "        0.69471177, 0.69553492, 0.69958615, 0.69714741, 0.69774937,\n",
       "        0.69514836, 0.69554339, 0.70197967, 0.69795115, 0.69693915,\n",
       "        0.69840674, 0.69494463, 0.69373425, 0.69744578, 0.68115425,\n",
       "        0.6857715 , 0.68759   , 0.69041824, 0.69527151, 0.69410802,\n",
       "        0.69054603, 0.6919806 , 0.70530943, 0.71095068, 0.71084176,\n",
       "        0.71256659, 0.71550411, 0.71458804, 0.71411983, 0.71321938,\n",
       "        0.70187558, 0.70583649, 0.70208548, 0.70384473, 0.70773206,\n",
       "        0.70375614, 0.70457403, 0.70683115]),\n",
       " 'split3_test_score': array([0.48074362, 0.4826224 , 0.48426197, 0.48667947, 0.48614471,\n",
       "        0.48580817, 0.487756  , 0.48825128, 0.49222775, 0.49606298,\n",
       "        0.49796143, 0.49836738, 0.50216793, 0.49968749, 0.49259005,\n",
       "        0.49030951, 0.50829323, 0.51087902, 0.51898918, 0.52068344,\n",
       "        0.52546536, 0.52536731, 0.52185075, 0.52297241, 0.48833364,\n",
       "        0.49023473, 0.48728897, 0.47892608, 0.47931167, 0.4777072 ,\n",
       "        0.47798359, 0.47813712, 0.4925768 , 0.49696969, 0.50220284,\n",
       "        0.50063036, 0.50249034, 0.49956352, 0.49636271, 0.49527453,\n",
       "        0.5198019 , 0.51984177, 0.51595779, 0.51856609, 0.51959911,\n",
       "        0.51895022, 0.51651549, 0.51083179]),\n",
       " 'split4_test_score': array([0.54409313, 0.54273488, 0.54021373, 0.53837339, 0.53750368,\n",
       "        0.53370247, 0.52880663, 0.50850326, 0.52725487, 0.5216733 ,\n",
       "        0.5309864 , 0.51953098, 0.52175804, 0.52078257, 0.52161241,\n",
       "        0.50992355, 0.52126688, 0.51584487, 0.50490995, 0.50672336,\n",
       "        0.51201469, 0.50998538, 0.51114583, 0.4981448 , 0.46000667,\n",
       "        0.45779988, 0.46192963, 0.46643805, 0.46992922, 0.47055912,\n",
       "        0.47054984, 0.45963513, 0.55124871, 0.54267367, 0.54013339,\n",
       "        0.53319168, 0.53402348, 0.52984905, 0.52234518, 0.51355145,\n",
       "        0.52978533, 0.52510917, 0.53717672, 0.54013231, 0.54367523,\n",
       "        0.54725576, 0.54683279, 0.53789384]),\n",
       " 'mean_test_score': array([0.51863305, 0.521506  , 0.52240855, 0.52230991, 0.52439576,\n",
       "        0.52143378, 0.52074229, 0.51848809, 0.51690479, 0.51912407,\n",
       "        0.52159429, 0.51619293, 0.51931391, 0.51708211, 0.51557994,\n",
       "        0.51325775, 0.51883237, 0.52137604, 0.52081095, 0.52016335,\n",
       "        0.5223067 , 0.52031844, 0.52028281, 0.51870699, 0.49128167,\n",
       "        0.49394795, 0.49521049, 0.49142592, 0.49340827, 0.49299553,\n",
       "        0.49213087, 0.49073601, 0.5465414 , 0.54800727, 0.54709953,\n",
       "        0.54400945, 0.54567038, 0.54397566, 0.54101209, 0.53825619,\n",
       "        0.52463894, 0.52582732, 0.52864924, 0.52867003, 0.52921377,\n",
       "        0.52780029, 0.52799099, 0.52428854]),\n",
       " 'std_test_score': array([0.09785272, 0.09861508, 0.09758423, 0.09939365, 0.0999273 ,\n",
       "        0.09920784, 0.10261035, 0.10117287, 0.09966184, 0.09921913,\n",
       "        0.0974932 , 0.09977477, 0.1001498 , 0.09979692, 0.10028094,\n",
       "        0.09842266, 0.09549501, 0.09625938, 0.09417945, 0.09471532,\n",
       "        0.09530523, 0.09485038, 0.09375206, 0.09549274, 0.1010525 ,\n",
       "        0.10149818, 0.10114894, 0.10441552, 0.10635023, 0.10587604,\n",
       "        0.10418282, 0.10484013, 0.08751828, 0.08821206, 0.08818696,\n",
       "        0.09056221, 0.09146414, 0.09150868, 0.09225288, 0.09229691,\n",
       "        0.10039935, 0.10055535, 0.097986  , 0.10004556, 0.10273472,\n",
       "        0.10157053, 0.10072523, 0.10190125]),\n",
       " 'rank_test_score': array([34, 22, 18, 19, 16, 23, 26, 35, 37, 31, 21, 38, 30, 36, 39, 40, 32,\n",
       "        24, 25, 29, 20, 27, 28, 33, 47, 42, 41, 46, 43, 44, 45, 48,  3,  1,\n",
       "         2,  5,  4,  6,  7,  8, 15, 14, 11, 10,  9, 13, 12, 17],\n",
       "       dtype=int32)}"
      ]
     },
     "execution_count": 35,
     "metadata": {},
     "output_type": "execute_result"
    }
   ],
   "source": [
    "grid_rf.cv_results_"
   ]
  },
  {
   "cell_type": "code",
   "execution_count": 36,
   "metadata": {
    "colab": {},
    "colab_type": "code",
    "id": "coIPchoL85i5",
    "outputId": "10a3a556-8ce7-4962-9abd-96425eb1cc1b",
    "scrolled": true
   },
   "outputs": [
    {
     "data": {
      "image/png": "[encoded data removed]",
      "text/plain": [
       "<Figure size 432x288 with 1 Axes>"
      ]
     },
     "metadata": {
      "needs_background": "light"
     },
     "output_type": "display_data"
    }
   ],
   "source": [
    "# plot the effect of different number of trees and maximum tree-depth druing cross validation \n",
    "\n",
    "\n",
    "scores = [x for x in grid_rf.cv_results_['mean_test_score']]\n",
    "\n",
    "n_est = [54, 55, 56, 57, 58, 59, 60, 62]\n",
    "m_depth=[12, 13, 14, 15, 16, 17]\n",
    "\n",
    "\n",
    "scores = np.array(scores).reshape(len(m_depth), len(n_est))\n",
    "\n",
    "fig = plt.figure()\n",
    "ax = plt.subplot(111)\n",
    "for ind, i in enumerate(m_depth):\n",
    "    plt.plot(n_est, scores[ind], '-o', label='m_depth.' + str(i),)\n",
    "    \n",
    "ax.legend(loc='center left', bbox_to_anchor=(1, 0.5))\n",
    "plt.xlabel('n estimator')\n",
    "plt.ylabel('Mean score')\n",
    "plt.grid(True)\n",
    "plt.show()\n",
    "# savefig('rf_1')"
   ]
  },
  {
   "cell_type": "code",
   "execution_count": 37,
   "metadata": {
    "colab": {},
    "colab_type": "code",
    "id": "zbSWnhsq85i8",
    "outputId": "89dd304b-92f8-43c9-8064-b8ef36775b4e"
   },
   "outputs": [
    {
     "data": {
      "text/html": [
       "<style>#sk-container-id-7 {color: black;background-color: white;}#sk-container-id-7 pre{padding: 0;}#sk-container-id-7 div.sk-toggleable {background-color: white;}#sk-container-id-7 label.sk-toggleable__label {cursor: pointer;display: block;width: 100%;margin-bottom: 0;padding: 0.3em;box-sizing: border-box;text-align: center;}#sk-container-id-7 label.sk-toggleable__label-arrow:before {content: \"▸\";float: left;margin-right: 0.25em;color: #696969;}#sk-container-id-7 label.sk-toggleable__label-arrow:hover:before {color: black;}#sk-container-id-7 div.sk-estimator:hover label.sk-toggleable__label-arrow:before {color: black;}#sk-container-id-7 div.sk-toggleable__content {max-height: 0;max-width: 0;overflow: hidden;text-align: left;background-color: #f0f8ff;}#sk-container-id-7 div.sk-toggleable__content pre {margin: 0.2em;color: black;border-radius: 0.25em;background-color: #f0f8ff;}#sk-container-id-7 input.sk-toggleable__control:checked~div.sk-toggleable__content {max-height: 200px;max-width: 100%;overflow: auto;}#sk-container-id-7 input.sk-toggleable__control:checked~label.sk-toggleable__label-arrow:before {content: \"▾\";}#sk-container-id-7 div.sk-estimator input.sk-toggleable__control:checked~label.sk-toggleable__label {background-color: #d4ebff;}#sk-container-id-7 div.sk-label input.sk-toggleable__control:checked~label.sk-toggleable__label {background-color: #d4ebff;}#sk-container-id-7 input.sk-hidden--visually {border: 0;clip: rect(1px 1px 1px 1px);clip: rect(1px, 1px, 1px, 1px);height: 1px;margin: -1px;overflow: hidden;padding: 0;position: absolute;width: 1px;}#sk-container-id-7 div.sk-estimator {font-family: monospace;background-color: #f0f8ff;border: 1px dotted black;border-radius: 0.25em;box-sizing: border-box;margin-bottom: 0.5em;}#sk-container-id-7 div.sk-estimator:hover {background-color: #d4ebff;}#sk-container-id-7 div.sk-parallel-item::after {content: \"\";width: 100%;border-bottom: 1px solid gray;flex-grow: 1;}#sk-container-id-7 div.sk-label:hover label.sk-toggleable__label {background-color: #d4ebff;}#sk-container-id-7 div.sk-serial::before {content: \"\";position: absolute;border-left: 1px solid gray;box-sizing: border-box;top: 0;bottom: 0;left: 50%;z-index: 0;}#sk-container-id-7 div.sk-serial {display: flex;flex-direction: column;align-items: center;background-color: white;padding-right: 0.2em;padding-left: 0.2em;position: relative;}#sk-container-id-7 div.sk-item {position: relative;z-index: 1;}#sk-container-id-7 div.sk-parallel {display: flex;align-items: stretch;justify-content: center;background-color: white;position: relative;}#sk-container-id-7 div.sk-item::before, #sk-container-id-7 div.sk-parallel-item::before {content: \"\";position: absolute;border-left: 1px solid gray;box-sizing: border-box;top: 0;bottom: 0;left: 50%;z-index: -1;}#sk-container-id-7 div.sk-parallel-item {display: flex;flex-direction: column;z-index: 1;position: relative;background-color: white;}#sk-container-id-7 div.sk-parallel-item:first-child::after {align-self: flex-end;width: 50%;}#sk-container-id-7 div.sk-parallel-item:last-child::after {align-self: flex-start;width: 50%;}#sk-container-id-7 div.sk-parallel-item:only-child::after {width: 0;}#sk-container-id-7 div.sk-dashed-wrapped {border: 1px dashed gray;margin: 0 0.4em 0.5em 0.4em;box-sizing: border-box;padding-bottom: 0.4em;background-color: white;}#sk-container-id-7 div.sk-label label {font-family: monospace;font-weight: bold;display: inline-block;line-height: 1.2em;}#sk-container-id-7 div.sk-label-container {text-align: center;}#sk-container-id-7 div.sk-container {/* jupyter's `normalize.less` sets `[hidden] { display: none; }` but bootstrap.min.css set `[hidden] { display: none !important; }` so we also need the `!important` here to be able to override the default hidden behavior on the sphinx rendered scikit-learn.org. See: https://github.com/scikit-learn/scikit-learn/issues/21755 */display: inline-block !important;position: relative;}#sk-container-id-7 div.sk-text-repr-fallback {display: none;}</style><div id=\"sk-container-id-7\" class=\"sk-top-container\"><div class=\"sk-text-repr-fallback\"><pre>RandomForestRegressor(max_depth=16, max_features=&#x27;sqrt&#x27;, n_estimators=55,\n",
       "                      random_state=2)</pre><b>In a Jupyter environment, please rerun this cell to show the HTML representation or trust the notebook. <br />On GitHub, the HTML representation is unable to render, please try loading this page with nbviewer.org.</b></div><div class=\"sk-container\" hidden><div class=\"sk-item\"><div class=\"sk-estimator sk-toggleable\"><input class=\"sk-toggleable__control sk-hidden--visually\" id=\"sk-estimator-id-9\" type=\"checkbox\" checked><label for=\"sk-estimator-id-9\" class=\"sk-toggleable__label sk-toggleable__label-arrow\">RandomForestRegressor</label><div class=\"sk-toggleable__content\"><pre>RandomForestRegressor(max_depth=16, max_features=&#x27;sqrt&#x27;, n_estimators=55,\n",
       "                      random_state=2)</pre></div></div></div></div></div>"
      ],
      "text/plain": [
       "RandomForestRegressor(max_depth=16, max_features='sqrt', n_estimators=55,\n",
       "                      random_state=2)"
      ]
     },
     "execution_count": 37,
     "metadata": {},
     "output_type": "execute_result"
    }
   ],
   "source": [
    "# add both training and validation data together as the new training data\n",
    "rf = RandomForestRegressor(random_state=2, max_features = 'sqrt', max_depth= 16, n_estimators=55)\n",
    "rf.fit(model_train_x, model_train_y)"
   ]
  },
  {
   "cell_type": "markdown",
   "metadata": {
    "colab_type": "text",
    "id": "W38Ms86i85jD"
   },
   "source": [
    "The best rf model have n_estimator = 16, and max_depth = 55."
   ]
  },
  {
   "cell_type": "markdown",
   "metadata": {
    "colab_type": "text",
    "id": "IXWNTJGT85jE"
   },
   "source": [
    "# Part 4: Model Evaluation\n",
    "Test data is the reserved 15% of the whole dataset, and has never been seen by the above models. "
   ]
  },
  {
   "cell_type": "markdown",
   "metadata": {
    "colab_type": "text",
    "id": "X7-f1G8985jE"
   },
   "source": [
    "## 4.1 Lasso test with linear features (lasso_f)"
   ]
  },
  {
   "cell_type": "code",
   "execution_count": 38,
   "metadata": {
    "colab": {},
    "colab_type": "code",
    "id": "d4TI_H4k85jF",
    "outputId": "beced675-c646-44d8-e444-6b966f1ea108"
   },
   "outputs": [
    {
     "name": "stdout",
     "output_type": "stream",
     "text": [
      "lasso_f score:  0.09263234449657709\n",
      "Mean square error of lasso_f:  240788741.4669559\n",
      "Root mean squared error of lasso_f: 15517.369025287628\n"
     ]
    }
   ],
   "source": [
    "# Lasso_f test (with linear features)\n",
    "\n",
    "lasso_f_score = lasso_f.score(model_test_x, model_test_y)\n",
    "pred_y = lasso_f.predict(model_test_x)\n",
    "\n",
    "# The mean squared error and root mean square error\n",
    "MSE_lasso_f = mean_squared_error(model_test_y, pred_y)\n",
    "RMSE_lasso_f = sqrt(mean_squared_error(model_test_y, pred_y))\n",
    "\n",
    "print ('lasso_f score: ', lasso_f_score)\n",
    "print ('Mean square error of lasso_f: ', MSE_lasso_f)\n",
    "print ('Root mean squared error of lasso_f:', RMSE_lasso_f)\n",
    "# print ('Coefficients of lasso_f: ', lasso_f.coef_)"
   ]
  },
  {
   "cell_type": "markdown",
   "metadata": {
    "colab_type": "text",
    "id": "ife4EPk-85jH"
   },
   "source": [
    "## 4.2 Lasso test with polynomial features (lasso_fp)"
   ]
  },
  {
   "cell_type": "code",
   "execution_count": 39,
   "metadata": {
    "colab": {},
    "colab_type": "code",
    "id": "_BlQvHdd85jH",
    "outputId": "5a9ac46a-95f9-4ade-e675-4ba6c06d7d96"
   },
   "outputs": [
    {
     "name": "stdout",
     "output_type": "stream",
     "text": [
      "lasso_fp score:  0.15295073547573268\n",
      "Mean square error of lasso_fp:  224782011.04947755\n",
      "Root mean squared error of lasso_fp: 14992.731940826447\n"
     ]
    }
   ],
   "source": [
    "# Lasso_fp test (with polynomial features)\n",
    "model_test_xp = poly.fit_transform(model_test_x)\n",
    "pred_y = lasso_fp.predict(model_test_xp)\n",
    "\n",
    "lasso_fp_score = lasso_fp.score(model_test_xp, model_test_y)\n",
    "MSE_lasso_fp = mean_squared_error(model_test_y, pred_y)\n",
    "RMSE_lasso_fp = sqrt(mean_squared_error(model_test_y, pred_y))\n",
    "\n",
    "print ('lasso_fp score: ', lasso_fp_score)\n",
    "print ('Mean square error of lasso_fp: ', MSE_lasso_fp)\n",
    "print ('Root mean squared error of lasso_fp:', RMSE_lasso_fp)\n",
    "# print ('Coefficients of lasso_fp: ', lasso_fp.coef_)"
   ]
  },
  {
   "cell_type": "markdown",
   "metadata": {
    "colab_type": "text",
    "id": "XSkh2bSH85jL"
   },
   "source": [
    "## 4.3 Ridge test with linear features (ridge_f)"
   ]
  },
  {
   "cell_type": "code",
   "execution_count": 40,
   "metadata": {
    "colab": {},
    "colab_type": "code",
    "id": "yr8Tqhel85jM",
    "outputId": "2a95d6db-1ab1-4fac-fa3b-11dc4a672cbd"
   },
   "outputs": [
    {
     "name": "stdout",
     "output_type": "stream",
     "text": [
      "ridge_f score:  0.1082135585547942\n",
      "Mean square error of ridge_f:  236653944.61713454\n",
      "Root mean squared error of ridge_f: 15383.560856223587\n"
     ]
    }
   ],
   "source": [
    "# ridge_f test (with linear features)\n",
    "\n",
    "ridge_f_score = ridge_f.score(model_test_x, model_test_y)\n",
    "pred_y = ridge_f.predict(model_test_x)\n",
    "\n",
    "# The mean squared error and root mean square error\n",
    "MSE_ridge_f = mean_squared_error(model_test_y, pred_y)\n",
    "RMSE_ridge_f = sqrt(mean_squared_error(model_test_y, pred_y))\n",
    "\n",
    "print ('ridge_f score: ', ridge_f_score)\n",
    "print ('Mean square error of ridge_f: ', MSE_ridge_f)\n",
    "print ('Root mean squared error of ridge_f:', RMSE_ridge_f)\n",
    "# print ('Coefficients of ridge_f: ', ridge_f.coef_)"
   ]
  },
  {
   "cell_type": "markdown",
   "metadata": {
    "colab_type": "text",
    "id": "4je_Gd5k85jN"
   },
   "source": [
    "## 4.4 Ridge test with polynomial features (ridge_fp)"
   ]
  },
  {
   "cell_type": "code",
   "execution_count": 41,
   "metadata": {
    "colab": {},
    "colab_type": "code",
    "id": "kmWNOPCj85jO",
    "outputId": "8976ba1c-6979-49bd-b97d-df9379d667e9"
   },
   "outputs": [
    {
     "name": "stdout",
     "output_type": "stream",
     "text": [
      "ridge_fp score:  0.1082135585547942\n",
      "Mean square error of ridge_fp:  236653944.61713454\n",
      "Root mean squared error of ridge_fp: 15383.560856223587\n"
     ]
    }
   ],
   "source": [
    "# ridge_fp test (with polynomial features)\n",
    "model_test_xp = poly.fit_transform(model_test_x)\n",
    "\n",
    "ridge_fp_score = ridge_fp.score(model_test_xp, model_test_y)\n",
    "MSE_ridge_fp = mean_squared_error(model_test_y, pred_y)\n",
    "RMSE_ridge_fp = sqrt(mean_squared_error(model_test_y, pred_y))\n",
    "\n",
    "pred_y = ridge_fp.predict(model_test_xp)\n",
    "print ('ridge_fp score: ', ridge_f_score)\n",
    "print ('Mean square error of ridge_fp: ', MSE_ridge_fp)\n",
    "print ('Root mean squared error of ridge_fp:', RMSE_ridge_fp)\n",
    "#print ('Coefficients of ridge_fp: ', ridge_fp.coef_)"
   ]
  },
  {
   "cell_type": "markdown",
   "metadata": {
    "colab_type": "text",
    "id": "ghmes05d85jR"
   },
   "source": [
    "## 4.5 Random forest test (rf)"
   ]
  },
  {
   "cell_type": "code",
   "execution_count": 42,
   "metadata": {
    "colab": {},
    "colab_type": "code",
    "id": "2qx2whs285jR",
    "outputId": "10d5f213-7e8e-4cd2-dfa7-da425d04f7bc"
   },
   "outputs": [
    {
     "name": "stdout",
     "output_type": "stream",
     "text": [
      "rf score:  0.5042990673210334\n",
      "Mean square error of rf:  131544477.03730646\n",
      "Root mean squared error of rf: 11469.284068210467\n"
     ]
    }
   ],
   "source": [
    "rf_score = rf.score(model_test_x, model_test_y)\n",
    "\n",
    "pred_y = rf.predict(model_test_x)\n",
    "MSE_rf = mean_squared_error(model_test_y, pred_y)\n",
    "RMSE_rf = sqrt(mean_squared_error(model_test_y, pred_y))\n",
    "\n",
    "# The mean squared error and root mean square error\n",
    "print ('rf score: ', rf_score)\n",
    "print ('Mean square error of rf: ', MSE_rf)\n",
    "print ('Root mean squared error of rf:', RMSE_rf)\n",
    "# print('Coefficients: \\n', ridge_fp.coef_)"
   ]
  },
  {
   "cell_type": "markdown",
   "metadata": {
    "colab_type": "text",
    "id": "5CBarhv085jT"
   },
   "source": [
    "## 4.6 Comparison of the 5 models\n",
    "Compared the max_score, mean squared error (MSE), and root mean squared error (RMSE) of 5 models. Random forest model rf returns the beset prediction accuracy."
   ]
  },
  {
   "cell_type": "code",
   "execution_count": 43,
   "metadata": {
    "colab": {},
    "colab_type": "code",
    "id": "5HmG_ppx85jV",
    "outputId": "b9bfd6c6-0d52-42b9-b48b-5e5c6f7feb59"
   },
   "outputs": [
    {
     "name": "stderr",
     "output_type": "stream",
     "text": [
      "No artists with labels found to put in legend.  Note that artists whose label start with an underscore are ignored when legend() is called with no argument.\n"
     ]
    },
    {
     "data": {
      "image/png": "[encoded data removed]",
      "text/plain": [
       "<Figure size 432x288 with 1 Axes>"
      ]
     },
     "metadata": {
      "needs_background": "light"
     },
     "output_type": "display_data"
    },
    {
     "name": "stderr",
     "output_type": "stream",
     "text": [
      "No artists with labels found to put in legend.  Note that artists whose label start with an underscore are ignored when legend() is called with no argument.\n"
     ]
    },
    {
     "data": {
      "image/png": "[encoded data removed]",
      "text/plain": [
       "<Figure size 432x288 with 1 Axes>"
      ]
     },
     "metadata": {
      "needs_background": "light"
     },
     "output_type": "display_data"
    },
    {
     "name": "stderr",
     "output_type": "stream",
     "text": [
      "No artists with labels found to put in legend.  Note that artists whose label start with an underscore are ignored when legend() is called with no argument.\n"
     ]
    },
    {
     "data": {
      "image/png": "[encoded data removed]",
      "text/plain": [
       "<Figure size 432x288 with 1 Axes>"
      ]
     },
     "metadata": {
      "needs_background": "light"
     },
     "output_type": "display_data"
    }
   ],
   "source": [
    "lst_score = [lasso_f_score, lasso_fp_score, ridge_f_score, ridge_fp_score, rf_score]\n",
    "MSE_lst =  [MSE_lasso_f, MSE_lasso_fp, MSE_ridge_f, MSE_ridge_fp, MSE_rf]\n",
    "RMSE_lst =  [RMSE_lasso_f, RMSE_lasso_fp, RMSE_ridge_f, RMSE_ridge_fp, RMSE_rf]\n",
    "model_lst = ['Lasso_linear','Lasso poly', 'Ridge linear', 'Ridge poly', 'Random forest']\n",
    "\n",
    "plt.figure(1)\n",
    "plt.plot(model_lst, lst_score, 'ro')\n",
    "plt.legend(loc = 9)\n",
    "plt.legend(['r-square / score'])\n",
    "plt.xlabel('model names',fontsize =16)\n",
    "plt.ylabel('score / r square', fontsize =16)\n",
    "plt.grid(True)\n",
    "plt.show()\n",
    "\n",
    "plt.figure(2)\n",
    "plt.plot(model_lst, MSE_lst, 'g^')\n",
    "plt.legend(loc = 9)\n",
    "plt.legend(['mean square error (MSE)'])\n",
    "plt.xlabel('model names', fontsize =16)\n",
    "plt.ylabel('mean square error', fontsize =16)\n",
    "plt.grid(True)\n",
    "plt.show()\n",
    "\n",
    "plt.figure(3)\n",
    "plt.plot(model_lst, RMSE_lst, 'bs')\n",
    "plt.legend(loc = 9)\n",
    "plt.legend(['root mean square error (RMSE)'])\n",
    "plt.xlabel('model names', fontsize =16)\n",
    "plt.ylabel('root mean square error', fontsize =16)\n",
    "plt.grid(True)\n",
    "plt.show()"
   ]
  },
  {
   "cell_type": "markdown",
   "metadata": {
    "colab_type": "text",
    "id": "WNwYx9sb85jX"
   },
   "source": [
    "\n",
    "# 5. Feature importance\n",
    "Random forest(RF) shows the best prediction accuracy. Therefore, the feature importance will be extracted from the RF model. "
   ]
  },
  {
   "cell_type": "code",
   "execution_count": 44,
   "metadata": {
    "colab": {},
    "colab_type": "code",
    "id": "8Hss9puM85jX",
    "outputId": "cbb513ab-a54b-4748-aed8-fdafba461b57"
   },
   "outputs": [
    {
     "name": "stdout",
     "output_type": "stream",
     "text": [
      "Feature importance ranking:\n",
      "1. feature 2 weighted_categorical_position (0.146195)\n",
      "2. feature 0 weighted_horizontal_position (0.115427)\n",
      "3. feature 1 imdb_votes (0.110858)\n",
      "4. feature 7 budget (0.070222)\n",
      "5. feature 3 boxoffice (0.065554)\n",
      "6. feature 8 imdb_rating (0.056250)\n",
      "7. feature 4 duration_in_mins (0.052151)\n",
      "8. feature 9 metacritic_score (0.044754)\n",
      "9. feature 6 star_category (0.042139)\n",
      "10. feature 5 lionsgate (0.032824)\n",
      "11. feature 11 mgm (0.031813)\n",
      "12. feature 52 other (0.022400)\n",
      "13. feature 53 paramount (0.018457)\n",
      "14. feature 10 G (0.012920)\n",
      "15. feature 18 NC-17 (0.011925)\n",
      "16. feature 42 NotRated (0.011176)\n",
      "17. feature 28 PG (0.010977)\n",
      "18. feature 30 PG-13 (0.010055)\n",
      "19. feature 49 R (0.007745)\n",
      "20. feature 22 BAFTA (0.007736)\n",
      "21. feature 27 Golden Globe (0.007643)\n",
      "22. feature 48 Oscar (0.006846)\n",
      "23. feature 50 no award (0.006157)\n",
      "24. feature 47 other award (0.005860)\n",
      "25. feature 29 Action (0.005751)\n",
      "26. feature 23 Adventure (0.005703)\n",
      "27. feature 24 Animation (0.005681)\n",
      "28. feature 15 Comedy (0.005612)\n",
      "29. feature 44 Crime (0.005091)\n",
      "30. feature 43 Documentary (0.004922)\n",
      "31. feature 38 Drama (0.004549)\n",
      "32. feature 51 Fantasy (0.004499)\n",
      "33. feature 17 Foreign/International (0.004096)\n",
      "34. feature 54 Horror (0.003988)\n",
      "35. feature 21 Independent (0.003972)\n",
      "36. feature 16 Kids & Family (0.003968)\n",
      "37. feature 20 Music (0.003721)\n",
      "38. feature 39 Musicals (0.003637)\n",
      "39. feature 12 Mystery (0.003450)\n",
      "40. feature 35 Romance (0.003011)\n",
      "41. feature 33 Sci-Fi (0.002571)\n",
      "42. feature 25 Sport (0.002480)\n",
      "43. feature 55 Thriller (0.002439)\n",
      "44. feature 36 War (0.001929)\n",
      "45. feature 31 Western (0.001826)\n",
      "46. feature 26 Misc_gen (0.001771)\n",
      "47. feature 41 1916-1974 (0.001718)\n",
      "48. feature 46 1974-1991 (0.001537)\n",
      "49. feature 40 1991-2001 (0.001460)\n",
      "50. feature 19 2001-2006 (0.000666)\n",
      "51. feature 37 2006-2008 (0.000615)\n",
      "52. feature 14 2008-2010 (0.000373)\n",
      "53. feature 13 2010-2012 (0.000357)\n",
      "54. feature 34 2012-2013 (0.000350)\n",
      "55. feature 32 2013-2014 (0.000136)\n",
      "56. feature 45 2014-2017 (0.000037)\n"
     ]
    },
    {
     "data": {
      "image/png": "[encoded data removed]",
      "text/plain": [
       "<Figure size 432x288 with 1 Axes>"
      ]
     },
     "metadata": {
      "needs_background": "light"
     },
     "output_type": "display_data"
    }
   ],
   "source": [
    "importances = rf.feature_importances_\n",
    "std = np.std([tree.feature_importances_ for tree in rf.estimators_], axis=0)\n",
    "indices = np.argsort(importances)[::-1]\n",
    "feature_name = model_test_x.columns\n",
    "\n",
    "# Print the feature ranking\n",
    "print(\"Feature importance ranking:\")\n",
    "\n",
    "for f in range(model_test_x.shape[1]):\n",
    "    print(\"%d. feature %d %s (%f)\" % (f + 1, indices[f],  feature_name[f], importances[indices[f]]))\n",
    "    \n",
    "plt.figure(1)\n",
    "plt.bar(feature_name[:11], importances[indices[:11]])\n",
    "plt.xticks(rotation=90)\n",
    "plt.show()"
   ]
  },
  {
   "cell_type": "markdown",
   "metadata": {},
   "source": [
    "# Conclusion\n",
    "After trying linear Lasso Regression,  Polynomial Lasso Regression, Ridge, Linear Ridge Regression and  Polynomial  Ridge Regression, and Random Forest, I found that random forest has the best accuracy rate and lowest mean square error. The top predictive features of movies' popularity are weighted_categorical_position, weighted horizontal_position, and imbd_votes."
   ]
  },
  {
   "cell_type": "markdown",
   "metadata": {},
   "source": []
  }
 ],
 "metadata": {
  "colab": {
   "name": "work.ipynb",
   "provenance": [],
   "version": "0.3.2"
  },
  "kernelspec": {
   "display_name": "Python 3.9.10 ('general')",
   "language": "python",
   "name": "python3"
  },
  "language_info": {
   "codemirror_mode": {
    "name": "ipython",
    "version": 3
   },
   "file_extension": ".py",
   "mimetype": "text/x-python",
   "name": "python",
   "nbconvert_exporter": "python",
   "pygments_lexer": "ipython3",
   "version": "3.9.10"
  },
  "vscode": {
   "interpreter": {
    "hash": "e642c2df8645d1128470cdb26f2dbcb0c538d33e4e43c78de348e1440b8e35bb"
   }
  }
 },
 "nbformat": 4,
 "nbformat_minor": 1
}
